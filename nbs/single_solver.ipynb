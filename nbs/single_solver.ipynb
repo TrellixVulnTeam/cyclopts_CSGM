{
 "metadata": {
  "name": ""
 },
 "nbformat": 3,
 "nbformat_minor": 0,
 "worksheets": [
  {
   "cells": [
    {
     "cell_type": "code",
     "collapsed": false,
     "input": [
      "from __future__ import print_function\n",
      "\n",
      "%matplotlib inline\n",
      "%load_ext autoreload\n",
      "%autoreload 2\n",
      "\n",
      "import matplotlib.pyplot as plt\n",
      "import matplotlib.patches as patches\n",
      "import numpy as np\n",
      "import tables as t\n",
      "from collections import defaultdict\n",
      "import os\n",
      "from cyclopts import tools as tools\n",
      "from cyclopts import cyclopts_io as cycio\n",
      "from cyclopts import analysis\n",
      "from cyclopts.analysis import Context, RatioContext"
     ],
     "language": "python",
     "metadata": {},
     "outputs": [
      {
       "output_type": "stream",
       "stream": "stdout",
       "text": [
        "The autoreload extension is already loaded. To reload it, use:\n",
        "  %reload_ext autoreload\n"
       ]
      }
     ],
     "prompt_number": 1
    },
    {
     "cell_type": "code",
     "collapsed": false,
     "input": [
      "# configurable input\n",
      "mod_kind = 'reqr' # rxtr or reqr or rand\n",
      "frxtr = 1\n",
      "case = \"Base\"\n",
      "xchange = {'reqr': 'Reactor Supply', 'rxtr': 'Reactor Demand'}\n",
      "\n",
      "base = '~/phd/cyclopts/structured_runs/'\n",
      "suffix = 'old'\n",
      "\n",
      "if mod_kind == 'rxtr':\n",
      "    species_module = \"cyclopts.structured_species.request\"\n",
      "    species_class = \"StructuredRequest\"\n",
      "elif mod_kind == 'reqr':\n",
      "    species_module = \"cyclopts.structured_species.supply\"\n",
      "    species_class = \"StructuredSupply\"  \n",
      "elif mod_kind == 'rand':\n",
      "    species_module = \"cyclopts.random_request_species\"\n",
      "    species_class = \"RandomRequest\"   \n",
      "\n",
      "family_module = \"cyclopts.exchange_family\"\n",
      "family_class = \"ResourceExchange\"\n",
      "fname = 'combined.h5'"
     ],
     "language": "python",
     "metadata": {},
     "outputs": [],
     "prompt_number": 2
    },
    {
     "cell_type": "code",
     "collapsed": false,
     "input": [
      "dirnames = ['base_{kind}_{frxtr}', 'ratio_10_{kind}_{frxtr}', 'ratio_0_1_{kind}_{frxtr}', 'ratio_50_{kind}_{frxtr}']\n",
      "ratios = [1, 10, 0.1, 50]\n",
      "\n",
      "dirnames = [x.format(kind=mod_kind, frxtr=frxtr) for x in dirnames]\n",
      "files = [os.path.join(os.path.join(os.path.expanduser(base), x), fname) for x in dirnames]\n",
      "fmask = [not os.path.exists(x) for x in files]\n",
      "\n",
      "save = False\n",
      "#c_it = ipastels()\n",
      "#dirnames = tools.masked_filter(dirnames, fmask, unmask=True)\n",
      "files = tools.masked_filter(files, fmask, unmask=True)\n",
      "labels = ['{}%'.format(x) for x in tools.masked_filter(ratios, fmask, unmask=True)]\n",
      "#colors = [c_it.next() for i in range(len(files))]\n",
      "#ctxs = [Context(f, family_module, family_class, species_module, species_class, save=save, savepath=dirnames[i])\n",
      "#        for i, f in enumerate(files)]"
     ],
     "language": "python",
     "metadata": {},
     "outputs": [],
     "prompt_number": 3
    },
    {
     "cell_type": "code",
     "collapsed": false,
     "input": [
      "ctx = RatioContext(files, labels, family_module, family_class, species_module, species_class, save=save)\n",
      "fig, ax = ctx.ratio_scatter('n_arcs', 'cbc', save=save)"
     ],
     "language": "python",
     "metadata": {},
     "outputs": [
      {
       "ename": "TypeError",
       "evalue": "simple_scatter() got an unexpected keyword argument 'label'",
       "output_type": "pyerr",
       "traceback": [
        "\u001b[0;31m---------------------------------------------------------------------------\u001b[0m\n\u001b[0;31mTypeError\u001b[0m                                 Traceback (most recent call last)",
        "\u001b[0;32m<ipython-input-4-e61fd121b9a5>\u001b[0m in \u001b[0;36m<module>\u001b[0;34m()\u001b[0m\n\u001b[1;32m      1\u001b[0m \u001b[0mctx\u001b[0m \u001b[0;34m=\u001b[0m \u001b[0mRatioContext\u001b[0m\u001b[0;34m(\u001b[0m\u001b[0mfiles\u001b[0m\u001b[0;34m,\u001b[0m \u001b[0mlabels\u001b[0m\u001b[0;34m,\u001b[0m \u001b[0mfamily_module\u001b[0m\u001b[0;34m,\u001b[0m \u001b[0mfamily_class\u001b[0m\u001b[0;34m,\u001b[0m \u001b[0mspecies_module\u001b[0m\u001b[0;34m,\u001b[0m \u001b[0mspecies_class\u001b[0m\u001b[0;34m,\u001b[0m \u001b[0msave\u001b[0m\u001b[0;34m=\u001b[0m\u001b[0msave\u001b[0m\u001b[0;34m)\u001b[0m\u001b[0;34m\u001b[0m\u001b[0m\n\u001b[0;32m----> 2\u001b[0;31m \u001b[0mfig\u001b[0m\u001b[0;34m,\u001b[0m \u001b[0max\u001b[0m \u001b[0;34m=\u001b[0m \u001b[0mctx\u001b[0m\u001b[0;34m.\u001b[0m\u001b[0mratio_scatter\u001b[0m\u001b[0;34m(\u001b[0m\u001b[0;34m'n_arcs'\u001b[0m\u001b[0;34m,\u001b[0m \u001b[0;34m'cbc'\u001b[0m\u001b[0;34m,\u001b[0m \u001b[0msave\u001b[0m\u001b[0;34m=\u001b[0m\u001b[0msave\u001b[0m\u001b[0;34m)\u001b[0m\u001b[0;34m\u001b[0m\u001b[0m\n\u001b[0m",
        "\u001b[0;32m/home/gidden/.local/lib/python2.7/site-packages/cyclopts-0.0.8-py2.7.egg/cyclopts/analysis.pyc\u001b[0m in \u001b[0;36mratio_scatter\u001b[0;34m(self, param, solver, colors, where, **kwargs)\u001b[0m\n\u001b[1;32m    193\u001b[0m                 \u001b[0mparam\u001b[0m\u001b[0;34m,\u001b[0m \u001b[0msolver\u001b[0m\u001b[0;34m,\u001b[0m \u001b[0mshow\u001b[0m\u001b[0;34m=\u001b[0m\u001b[0mFalse\u001b[0m\u001b[0;34m,\u001b[0m \u001b[0max\u001b[0m\u001b[0;34m=\u001b[0m\u001b[0max\u001b[0m\u001b[0;34m,\u001b[0m \u001b[0mlim\u001b[0m\u001b[0;34m=\u001b[0m\u001b[0mlim\u001b[0m\u001b[0;34m,\u001b[0m \u001b[0mwhere\u001b[0m\u001b[0;34m=\u001b[0m\u001b[0mwhere\u001b[0m\u001b[0;34m,\u001b[0m \u001b[0mcolor\u001b[0m\u001b[0;34m=\u001b[0m\u001b[0mcolors\u001b[0m\u001b[0;34m[\u001b[0m\u001b[0mi\u001b[0m\u001b[0;34m]\u001b[0m\u001b[0;34m,\u001b[0m\u001b[0;34m\u001b[0m\u001b[0m\n\u001b[1;32m    194\u001b[0m                 \u001b[0mlabel\u001b[0m\u001b[0;34m=\u001b[0m\u001b[0mself\u001b[0m\u001b[0;34m.\u001b[0m\u001b[0mlabels\u001b[0m\u001b[0;34m[\u001b[0m\u001b[0mi\u001b[0m\u001b[0;34m]\u001b[0m\u001b[0;34m,\u001b[0m\u001b[0;34m\u001b[0m\u001b[0m\n\u001b[0;32m--> 195\u001b[0;31m                 **kwargs)\n\u001b[0m\u001b[1;32m    196\u001b[0m         \u001b[0max\u001b[0m\u001b[0;34m.\u001b[0m\u001b[0mlegend\u001b[0m\u001b[0;34m(\u001b[0m\u001b[0mloc\u001b[0m\u001b[0;34m=\u001b[0m\u001b[0;34m'upper left'\u001b[0m\u001b[0;34m)\u001b[0m\u001b[0;34m\u001b[0m\u001b[0m\n\u001b[1;32m    197\u001b[0m         \u001b[0max\u001b[0m\u001b[0;34m.\u001b[0m\u001b[0mset_xlim\u001b[0m\u001b[0;34m(\u001b[0m\u001b[0;36m0\u001b[0m\u001b[0;34m)\u001b[0m\u001b[0;34m\u001b[0m\u001b[0m\n",
        "\u001b[0;32m/home/gidden/.local/lib/python2.7/site-packages/cyclopts-0.0.8-py2.7.egg/cyclopts/analysis.pyc\u001b[0m in \u001b[0;36msolver_scatter\u001b[0;34m(self, param, solver, **kwargs)\u001b[0m\n\u001b[1;32m    292\u001b[0m         id_to_x = io_tools.grab_data(self.f, xpmap.path, xpmap.col, \n\u001b[1;32m    293\u001b[0m                                      ('instid', self.instids))\n\u001b[0;32m--> 294\u001b[0;31m         \u001b[0max\u001b[0m\u001b[0;34m,\u001b[0m \u001b[0mids\u001b[0m\u001b[0;34m,\u001b[0m \u001b[0mx\u001b[0m\u001b[0;34m,\u001b[0m \u001b[0my\u001b[0m \u001b[0;34m=\u001b[0m \u001b[0mself\u001b[0m\u001b[0;34m.\u001b[0m\u001b[0msimple_scatter\u001b[0m\u001b[0;34m(\u001b[0m\u001b[0mid_to_x\u001b[0m\u001b[0;34m,\u001b[0m \u001b[0mparam\u001b[0m\u001b[0;34m,\u001b[0m \u001b[0msolver\u001b[0m\u001b[0;34m,\u001b[0m \u001b[0mlabels\u001b[0m\u001b[0;34m=\u001b[0m\u001b[0mTrue\u001b[0m\u001b[0;34m,\u001b[0m \u001b[0;34m**\u001b[0m\u001b[0mkwargs\u001b[0m\u001b[0;34m)\u001b[0m\u001b[0;34m\u001b[0m\u001b[0m\n\u001b[0m\u001b[1;32m    295\u001b[0m         \u001b[0;32mreturn\u001b[0m \u001b[0max\u001b[0m\u001b[0;34m,\u001b[0m \u001b[0mids\u001b[0m\u001b[0;34m,\u001b[0m \u001b[0mx\u001b[0m\u001b[0;34m,\u001b[0m \u001b[0my\u001b[0m\u001b[0;34m\u001b[0m\u001b[0m\n\u001b[1;32m    296\u001b[0m \u001b[0;34m\u001b[0m\u001b[0m\n",
        "\u001b[0;31mTypeError\u001b[0m: simple_scatter() got an unexpected keyword argument 'label'"
       ]
      },
      {
       "metadata": {},
       "output_type": "display_data",
       "png": "[encoded data removed]",
       "text": [
        "<matplotlib.figure.Figure at 0x7f3a69cabe50>"
       ]
      }
     ],
     "prompt_number": 4
    },
    {
     "cell_type": "markdown",
     "metadata": {},
     "source": [
      "x = None\n",
      "ids = None\n",
      "ys = [None] * len(files)\n",
      "labels = ['1%', '10%']\n",
      "lim = 3 * 60 * 60\n",
      "nover = [None] * len(files)\n",
      "for i, ctx in enumerate(ctxs):\n",
      "    _, ids, x, y = ctx.solver_scatter('n_arcs', 'cbc', show=False)\n",
      "    nover[i] = len(y[y > lim])\n",
      "    ys[i] = y"
     ]
    },
    {
     "cell_type": "markdown",
     "metadata": {},
     "source": [
      "# plt only values less than limit\n",
      "for i, y in enumerate(ys):\n",
      "    mask = np.ma.masked_less(y, lim).mask\n",
      "    plt.scatter(x[mask], y[mask], label=labels[i], c=colors[i])\n",
      "plt.legend(loc='upper left')\n",
      "plt.xlim(0)\n",
      "plt.ylim(0)"
     ]
    },
    {
     "cell_type": "code",
     "collapsed": false,
     "input": [],
     "language": "python",
     "metadata": {},
     "outputs": []
    }
   ],
   "metadata": {}
  }
 ]
}