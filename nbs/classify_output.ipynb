{
 "metadata": {
  "name": ""
 },
 "nbformat": 3,
 "nbformat_minor": 0,
 "worksheets": [
  {
   "cells": [
    {
     "cell_type": "markdown",
     "metadata": {},
     "source": [
      "Cyclopts Output Classification\n",
      "==============================\n",
      "\n",
      "This notebook is used for classifying instances that take a *long* time. \"Long\" in this context is means over a minute or so. "
     ]
    },
    {
     "cell_type": "code",
     "collapsed": false,
     "input": [
      "from __future__ import print_function\n",
      "\n",
      "%matplotlib inline\n",
      "%load_ext autoreload\n",
      "%autoreload 2\n",
      "\n",
      "import matplotlib.pyplot as plt\n",
      "import numpy as np\n",
      "import tables as t\n",
      "from collections import defaultdict\n",
      "import os\n",
      "from cyclopts import tools, analysis"
     ],
     "language": "python",
     "metadata": {},
     "outputs": [
      {
       "output_type": "stream",
       "stream": "stdout",
       "text": [
        "The autoreload extension is already loaded. To reload it, use:\n",
        "  %reload_ext autoreload\n"
       ]
      }
     ],
     "prompt_number": 357
    },
    {
     "cell_type": "code",
     "collapsed": false,
     "input": [
      "prefix = '../../exec/run_results/'\n",
      "fname = 'combined.h5'\n",
      "dirname = 'small-long-times'\n",
      "f = t.open_file(os.path.join(prefix, dirname, fname), mode='r')\n",
      "\n",
      "props = f.root.Instances.ExchangeInstProperties\n",
      "samplers = f.root.ReactorRequestSampler\n",
      "grps = f.root.Instances.ExchangeGroups\n",
      "results = f.root.Results.General\n",
      "flows = f.root.Instances.ExchangeInstSolutions"
     ],
     "language": "python",
     "metadata": {},
     "outputs": [],
     "prompt_number": 358
    },
    {
     "cell_type": "code",
     "collapsed": false,
     "input": [
      "#samplers.description._v_names"
     ],
     "language": "python",
     "metadata": {},
     "outputs": [],
     "prompt_number": 359
    },
    {
     "cell_type": "code",
     "collapsed": false,
     "input": [
      "cyclus_limit_hrs = 3 # time limit on a cyclus run\n",
      "lb = 3 * 60 # 2 minutes in s\n",
      "ub = cyclus_limit_hrs * 60 * 60 # in s\n",
      "s = 'cbc'\n",
      "\n",
      "min_iids = [x['instid'] for x in results.where(\"\"\"(solver == s) & (time < lb)\"\"\")]\n",
      "mid_iids = [x['instid'] for x in results.where(\"\"\"(solver == s) & (time > lb) & (time < ub)\"\"\")]\n",
      "max_iids = [x['instid'] for x in results.where(\"\"\"(solver == s) & (time > ub)\"\"\")]\n",
      "\n",
      "min_pids = {x['instid']: x['paramid'] for x in props.iterrows() if x['instid'] in min_iids}\n",
      "mid_pids = {x['instid']: x['paramid'] for x in props.iterrows() if x['instid'] in mid_iids}\n",
      "max_pids = {x['instid']: x['paramid'] for x in props.iterrows() if x['instid'] in max_iids}\n",
      "\n",
      "min_samplers = [x[:] for x in samplers.iterrows() if x['paramid'] in min_pids.values()]\n",
      "mid_samplers = [x[:] for x in samplers.iterrows() if x['paramid'] in mid_pids.values()]\n",
      "max_samplers = [x[:] for x in samplers.iterrows() if x['paramid'] in max_pids.values()]\n",
      "\n",
      "len(min_iids), len(mid_iids), len(max_iids)"
     ],
     "language": "python",
     "metadata": {},
     "outputs": [
      {
       "metadata": {},
       "output_type": "pyout",
       "prompt_number": 360,
       "text": [
        "(3011, 16, 45)"
       ]
      }
     ],
     "prompt_number": 360
    },
    {
     "cell_type": "code",
     "collapsed": false,
     "input": [
      "def sidx(x):\n",
      "    return samplers.description._v_names.index(x)\n",
      "\n",
      "def pidx(x):\n",
      "    return props.description._v_names.index(x)\n",
      "\n",
      "constr_idx = sidx('sup_constr_val_cutoff')\n",
      "rand_idx = sidx('sup_constr_val_rand')\n",
      "excl_idx = sidx('exclusive_cutoff')\n",
      "\n",
      "max_all = {}"
     ],
     "language": "python",
     "metadata": {},
     "outputs": [],
     "prompt_number": 361
    },
    {
     "cell_type": "code",
     "collapsed": false,
     "input": [
      "def plot_vals(xrows, xkey, xval, yrows, ykey, yval, trend=False):\n",
      "    x = {r[xkey]: r[xval] for r in xrows}\n",
      "    y = {r[ykey]: r[yval] for r in yrows}\n",
      "    x = np.array([x[k] for k in y.keys()])\n",
      "    y = np.array(y.values())\n",
      "    plt.scatter(x, y)\n",
      "    if trend:\n",
      "        m, b = np.polyfit(x, y, 1)\n",
      "        fit = m * x + b\n",
      "        plt.plot(x, fit, 'r-')\n",
      "    plt.xlim(min(x), max(x))\n",
      "    plt.ylim(min(y), max(y))"
     ],
     "language": "python",
     "metadata": {},
     "outputs": [],
     "prompt_number": 362
    },
    {
     "cell_type": "code",
     "collapsed": false,
     "input": [
      "iids = min_iids\n",
      "xrows = [x[:] for x in props.iterrows() if x['instid'] in iids] \n",
      "yrows = [x[:] for x in results.where(\"\"\"solver==s\"\"\") if x['instid'] in iids] \n",
      "xkey, xval = props.description._v_names.index('instid'), props.description._v_names.index('excl_frac')\n",
      "ykey, yval = results.description._v_names.index('instid'), results.description._v_names.index('time')\n",
      "#print([tools.uuidhex(x[ykey]) for x in yrows if x[yval] < 82 and x[yval] > 80])\n",
      "plot_vals(xrows, xkey, xval, yrows, ykey, yval)"
     ],
     "language": "python",
     "metadata": {},
     "outputs": [
      {
       "metadata": {},
       "output_type": "display_data",
       "png": "[encoded data removed]",
       "text": [
        "<matplotlib.figure.Figure at 0x7f9b6830cc90>"
       ]
      }
     ],
     "prompt_number": 363
    },
    {
     "cell_type": "code",
     "collapsed": false,
     "input": [
      "cutoffs = (set(x[constr_idx] for x in mid_samplers + max_samplers), set(x[constr_idx] for x in min_samplers))\n",
      "cutoffs"
     ],
     "language": "python",
     "metadata": {},
     "outputs": [
      {
       "metadata": {},
       "output_type": "pyout",
       "prompt_number": 364,
       "text": [
        "({0.25}, {0.25, 1.0})"
       ]
      }
     ],
     "prompt_number": 364
    },
    {
     "cell_type": "code",
     "collapsed": false,
     "input": [
      "rands = (set(x[rand_idx] for x in mid_samplers + max_samplers), set(x[rand_idx] for x in min_samplers))\n",
      "rands"
     ],
     "language": "python",
     "metadata": {},
     "outputs": [
      {
       "metadata": {},
       "output_type": "pyout",
       "prompt_number": 365,
       "text": [
        "({False, True}, {False, True})"
       ]
      }
     ],
     "prompt_number": 365
    },
    {
     "cell_type": "code",
     "collapsed": false,
     "input": [
      "excls = (set(x[excl_idx] for x in mid_samplers + max_samplers), set(x[excl_idx] for x in min_samplers))\n",
      "excls"
     ],
     "language": "python",
     "metadata": {},
     "outputs": [
      {
       "metadata": {},
       "output_type": "pyout",
       "prompt_number": 366,
       "text": [
        "({0.5, 1.0}, {-1.0, 0.5, 1.0})"
       ]
      }
     ],
     "prompt_number": 366
    },
    {
     "cell_type": "code",
     "collapsed": false,
     "input": [
      "set((x[constr_idx], x[excl_idx]) for x in min_samplers)"
     ],
     "language": "python",
     "metadata": {},
     "outputs": [
      {
       "metadata": {},
       "output_type": "pyout",
       "prompt_number": 367,
       "text": [
        "{(0.25, -1.0), (0.25, 0.5), (0.25, 1.0), (1.0, -1.0), (1.0, 0.5), (1.0, 1.0)}"
       ]
      }
     ],
     "prompt_number": 367
    },
    {
     "cell_type": "code",
     "collapsed": false,
     "input": [
      "set((x[constr_idx], x[excl_idx]) for x in mid_samplers + max_samplers)"
     ],
     "language": "python",
     "metadata": {},
     "outputs": [
      {
       "metadata": {},
       "output_type": "pyout",
       "prompt_number": 368,
       "text": [
        "{(0.25, 0.5), (0.25, 1.0)}"
       ]
      }
     ],
     "prompt_number": 368
    },
    {
     "cell_type": "code",
     "collapsed": false,
     "input": [
      "set((x[constr_idx], x[excl_idx], x[sidx('connection_cutoff')]) for x in max_samplers)"
     ],
     "language": "python",
     "metadata": {},
     "outputs": [
      {
       "metadata": {},
       "output_type": "pyout",
       "prompt_number": 369,
       "text": [
        "{(0.25, 0.5, 1.0), (0.25, 1.0, 0.5), (0.25, 1.0, 1.0)}"
       ]
      }
     ],
     "prompt_number": 369
    },
    {
     "cell_type": "code",
     "collapsed": false,
     "input": [
      "set((x[constr_idx], x[excl_idx], x[sidx('n_req_constr_avg')]) for x in max_samplers)"
     ],
     "language": "python",
     "metadata": {},
     "outputs": [
      {
       "metadata": {},
       "output_type": "pyout",
       "prompt_number": 370,
       "text": [
        "{(0.25, 0.5, 0), (0.25, 1.0, 0), (0.25, 1.0, 2)}"
       ]
      }
     ],
     "prompt_number": 370
    },
    {
     "cell_type": "code",
     "collapsed": false,
     "input": [
      "set((x[constr_idx], x[excl_idx], x[sidx('n_sup_constr_avg')]) for x in max_samplers)"
     ],
     "language": "python",
     "metadata": {},
     "outputs": [
      {
       "metadata": {},
       "output_type": "pyout",
       "prompt_number": 371,
       "text": [
        "{(0.25, 0.5, 3), (0.25, 1.0, 1), (0.25, 1.0, 3)}"
       ]
      }
     ],
     "prompt_number": 371
    },
    {
     "cell_type": "code",
     "collapsed": false,
     "input": [
      " odd = [x for x in min_samplers if x[constr_idx] == 0.25 and x[excl_idx] > 0]\n",
      "len(odd)\n",
      "print(samplers.description._v_names)"
     ],
     "language": "python",
     "metadata": {},
     "outputs": [
      {
       "output_type": "stream",
       "stream": "stdout",
       "text": [
        "['pref_coeff_dist', 'pref_coeff_lb', 'pref_coeff_ub', 'assem_multi_commod_cutoff', 'assem_multi_commod_dist', 'n_commods_avg', 'n_commods_dist', 'sup_multi_cutoff', 'sup_multi_dist', 'n_supply_avg', 'n_supply_dist', 'sup_multi_commods_avg', 'sup_multi_commods_dist', 'exclusive_cutoff', 'exclusive_dist', 'sup_constr_val_cutoff', 'sup_constr_val_fracs', 'sup_constr_val_rand', 'n_sup_constr_avg', 'n_sup_constr_dist', 'n_req_constr_avg', 'n_req_constr_dist', 'req_multi_commods_avg', 'req_multi_commods_dist', 'connection_cutoff', 'connection_dist', 'req_qty_avg', 'req_qty_dist', 'assem_per_req_avg', 'assem_per_req_dist', 'n_request_avg', 'n_request_dist', 'paramid', 'constr_coeff_dist', 'constr_coeff_lb', 'constr_coeff_ub']\n"
       ]
      }
     ],
     "prompt_number": 372
    },
    {
     "cell_type": "code",
     "collapsed": false,
     "input": [
      "noprint = ['pref_coeff_lb', 'pref_coeff_ub', 'constr_coeff_lb', 'constr_coeff_ub', 'paramid', 'req_qty_avg']\n",
      "toprint = [n for n in samplers.description._v_names if n not in noprint and not n.endswith('_dist')]\n",
      "toprint"
     ],
     "language": "python",
     "metadata": {},
     "outputs": [
      {
       "metadata": {},
       "output_type": "pyout",
       "prompt_number": 373,
       "text": [
        "['assem_multi_commod_cutoff',\n",
        " 'n_commods_avg',\n",
        " 'sup_multi_cutoff',\n",
        " 'n_supply_avg',\n",
        " 'sup_multi_commods_avg',\n",
        " 'exclusive_cutoff',\n",
        " 'sup_constr_val_cutoff',\n",
        " 'sup_constr_val_fracs',\n",
        " 'sup_constr_val_rand',\n",
        " 'n_sup_constr_avg',\n",
        " 'n_req_constr_avg',\n",
        " 'req_multi_commods_avg',\n",
        " 'connection_cutoff',\n",
        " 'assem_per_req_avg',\n",
        " 'n_request_avg']"
       ]
      }
     ],
     "prompt_number": 373
    },
    {
     "cell_type": "code",
     "collapsed": false,
     "input": [
      "def print_sampler_info(s):\n",
      "    tot = []\n",
      "    for r in s:\n",
      "        c = []\n",
      "        for n in toprint:\n",
      "            x = r[sidx(n)]\n",
      "            if x not in noprint:\n",
      "                if type(x) is str and len(x.split()) != 4:\n",
      "                    continue\n",
      "            c.append(x)\n",
      "        tot.append(c)\n",
      "    \n",
      "    print(toprint)\n",
      "    print(len(tot))\n",
      "    for t in tot:\n",
      "        print(t)"
     ],
     "language": "python",
     "metadata": {},
     "outputs": [],
     "prompt_number": 374
    },
    {
     "cell_type": "code",
     "collapsed": false,
     "input": [
      "print_sampler_info(max_samplers)"
     ],
     "language": "python",
     "metadata": {},
     "outputs": [
      {
       "output_type": "stream",
       "stream": "stdout",
       "text": [
        "['assem_multi_commod_cutoff', 'n_commods_avg', 'sup_multi_cutoff', 'n_supply_avg', 'sup_multi_commods_avg', 'exclusive_cutoff', 'sup_constr_val_cutoff', 'sup_constr_val_fracs', 'sup_constr_val_rand', 'n_sup_constr_avg', 'n_req_constr_avg', 'req_multi_commods_avg', 'connection_cutoff', 'assem_per_req_avg', 'n_request_avg']\n",
        "45\n",
        "[-1.0, 5, -1.0, 10, 2, 1.0, 0.25, '[0.25, 0.5, 0.75, 1]', False, 1, 0, 3, 0.5, 3, 50]\n",
        "[-1.0, 5, -1.0, 10, 2, 1.0, 0.25, '[0.25, 0.5, 0.75, 1]', False, 1, 0, 3, 1.0, 3, 50]\n",
        "[-1.0, 5, -1.0, 10, 2, 1.0, 0.25, '[0.25, 0.5, 0.75, 1]', False, 3, 0, 3, 0.5, 3, 50]\n",
        "[-1.0, 5, -1.0, 10, 2, 1.0, 0.25, '[0.25, 0.5, 0.75, 1]', False, 3, 2, 3, 0.5, 3, 50]\n",
        "[-1.0, 5, -1.0, 10, 2, 1.0, 0.25, '[0.25, 0.5, 0.75, 1]', False, 3, 0, 3, 1.0, 3, 50]\n",
        "[-1.0, 5, -1.0, 10, 2, 1.0, 0.25, '[0.25, 0.5, 0.75, 1]', False, 3, 2, 3, 1.0, 3, 50]\n",
        "[-1.0, 5, -1.0, 10, 2, 1.0, 0.25, '[0.25, 0.5, 0.75, 1]', True, 1, 2, 3, 1.0, 3, 50]\n",
        "[-1.0, 5, -1.0, 10, 2, 1.0, 0.25, '[0.25, 0.5, 0.75, 1]', True, 3, 2, 3, 0.5, 3, 50]\n",
        "[-1.0, 5, -1.0, 10, 2, 1.0, 0.25, '[0.25, 0.5, 0.75, 1]', True, 3, 2, 3, 1.0, 3, 50]\n",
        "[-1.0, 5, -1.0, 15, 2, 0.5, 0.25, '[0.25, 0.5, 0.75, 1]', False, 3, 0, 3, 1.0, 3, 50]\n",
        "[-1.0, 5, -1.0, 15, 2, 1.0, 0.25, '[0.25, 0.5, 0.75, 1]', False, 1, 2, 3, 0.5, 3, 50]\n",
        "[-1.0, 5, -1.0, 15, 2, 1.0, 0.25, '[0.25, 0.5, 0.75, 1]', False, 1, 0, 3, 1.0, 3, 50]\n",
        "[-1.0, 5, -1.0, 15, 2, 1.0, 0.25, '[0.25, 0.5, 0.75, 1]', False, 1, 2, 3, 1.0, 3, 50]\n",
        "[-1.0, 5, -1.0, 15, 2, 1.0, 0.25, '[0.25, 0.5, 0.75, 1]', False, 3, 0, 3, 0.5, 3, 50]\n",
        "[-1.0, 5, -1.0, 15, 2, 1.0, 0.25, '[0.25, 0.5, 0.75, 1]', False, 3, 2, 3, 0.5, 3, 50]\n",
        "[-1.0, 5, -1.0, 15, 2, 1.0, 0.25, '[0.25, 0.5, 0.75, 1]', False, 3, 0, 3, 1.0, 3, 20]\n",
        "[-1.0, 5, -1.0, 15, 2, 1.0, 0.25, '[0.25, 0.5, 0.75, 1]', False, 3, 0, 3, 1.0, 3, 50]\n",
        "[-1.0, 5, -1.0, 15, 2, 1.0, 0.25, '[0.25, 0.5, 0.75, 1]', False, 3, 2, 3, 1.0, 3, 50]\n",
        "[-1.0, 5, 0.5, 10, 2, 1.0, 0.25, '[0.25, 0.5, 0.75, 1]', False, 1, 0, 3, 0.5, 3, 50]\n",
        "[-1.0, 5, 0.5, 10, 2, 1.0, 0.25, '[0.25, 0.5, 0.75, 1]', False, 1, 2, 3, 0.5, 3, 50]\n",
        "[-1.0, 5, 0.5, 10, 2, 1.0, 0.25, '[0.25, 0.5, 0.75, 1]', False, 1, 0, 3, 1.0, 3, 50]\n",
        "[-1.0, 5, 0.5, 10, 2, 1.0, 0.25, '[0.25, 0.5, 0.75, 1]', False, 1, 2, 3, 1.0, 3, 50]\n",
        "[-1.0, 5, 0.5, 10, 2, 1.0, 0.25, '[0.25, 0.5, 0.75, 1]', False, 3, 2, 3, 0.5, 3, 20]\n",
        "[-1.0, 5, 0.5, 10, 2, 1.0, 0.25, '[0.25, 0.5, 0.75, 1]', False, 3, 0, 3, 0.5, 3, 50]\n",
        "[-1.0, 5, 0.5, 10, 2, 1.0, 0.25, '[0.25, 0.5, 0.75, 1]', False, 3, 2, 3, 0.5, 3, 50]\n",
        "[-1.0, 5, 0.5, 10, 2, 1.0, 0.25, '[0.25, 0.5, 0.75, 1]', False, 3, 0, 3, 1.0, 3, 20]\n",
        "[-1.0, 5, 0.5, 10, 2, 1.0, 0.25, '[0.25, 0.5, 0.75, 1]', False, 3, 2, 3, 1.0, 3, 20]\n",
        "[-1.0, 5, 0.5, 10, 2, 1.0, 0.25, '[0.25, 0.5, 0.75, 1]', False, 3, 0, 3, 1.0, 1, 50]\n",
        "[-1.0, 5, 0.5, 10, 2, 1.0, 0.25, '[0.25, 0.5, 0.75, 1]', False, 3, 2, 3, 1.0, 1, 50]\n",
        "[-1.0, 5, 0.5, 10, 2, 1.0, 0.25, '[0.25, 0.5, 0.75, 1]', False, 3, 0, 3, 1.0, 3, 50]\n",
        "[-1.0, 5, 0.5, 10, 2, 1.0, 0.25, '[0.25, 0.5, 0.75, 1]', False, 3, 2, 3, 1.0, 3, 50]\n",
        "[-1.0, 5, 0.5, 10, 2, 1.0, 0.25, '[0.25, 0.5, 0.75, 1]', True, 3, 0, 3, 1.0, 1, 50]\n",
        "[-1.0, 5, 0.5, 10, 2, 1.0, 0.25, '[0.25, 0.5, 0.75, 1]', True, 3, 0, 3, 1.0, 3, 50]\n",
        "[-1.0, 5, 0.5, 15, 2, 0.5, 0.25, '[0.25, 0.5, 0.75, 1]', False, 3, 0, 3, 1.0, 1, 50]\n",
        "[-1.0, 5, 0.5, 15, 2, 1.0, 0.25, '[0.25, 0.5, 0.75, 1]', False, 3, 0, 3, 0.5, 3, 20]\n",
        "[-1.0, 5, 0.5, 15, 2, 1.0, 0.25, '[0.25, 0.5, 0.75, 1]', False, 3, 2, 3, 0.5, 3, 20]\n",
        "[-1.0, 5, 0.5, 15, 2, 1.0, 0.25, '[0.25, 0.5, 0.75, 1]', False, 3, 2, 3, 0.5, 1, 50]\n",
        "[-1.0, 5, 0.5, 15, 2, 1.0, 0.25, '[0.25, 0.5, 0.75, 1]', False, 3, 0, 3, 0.5, 3, 50]\n",
        "[-1.0, 5, 0.5, 15, 2, 1.0, 0.25, '[0.25, 0.5, 0.75, 1]', False, 3, 2, 3, 0.5, 3, 50]\n",
        "[-1.0, 5, 0.5, 15, 2, 1.0, 0.25, '[0.25, 0.5, 0.75, 1]', False, 3, 0, 3, 1.0, 3, 20]\n",
        "[-1.0, 5, 0.5, 15, 2, 1.0, 0.25, '[0.25, 0.5, 0.75, 1]', False, 3, 2, 3, 1.0, 3, 20]\n",
        "[-1.0, 5, 0.5, 15, 2, 1.0, 0.25, '[0.25, 0.5, 0.75, 1]', False, 3, 0, 3, 1.0, 1, 50]\n",
        "[-1.0, 5, 0.5, 15, 2, 1.0, 0.25, '[0.25, 0.5, 0.75, 1]', False, 3, 2, 3, 1.0, 1, 50]\n",
        "[-1.0, 5, 0.5, 15, 2, 1.0, 0.25, '[0.25, 0.5, 0.75, 1]', False, 3, 0, 3, 1.0, 3, 50]\n",
        "[-1.0, 5, 0.5, 15, 2, 1.0, 0.25, '[0.25, 0.5, 0.75, 1]', False, 3, 2, 3, 1.0, 3, 50]\n"
       ]
      }
     ],
     "prompt_number": 375
    },
    {
     "cell_type": "code",
     "collapsed": false,
     "input": [
      "print_sampler_info(mid_samplers)"
     ],
     "language": "python",
     "metadata": {},
     "outputs": [
      {
       "output_type": "stream",
       "stream": "stdout",
       "text": [
        "['assem_multi_commod_cutoff', 'n_commods_avg', 'sup_multi_cutoff', 'n_supply_avg', 'sup_multi_commods_avg', 'exclusive_cutoff', 'sup_constr_val_cutoff', 'sup_constr_val_fracs', 'sup_constr_val_rand', 'n_sup_constr_avg', 'n_req_constr_avg', 'req_multi_commods_avg', 'connection_cutoff', 'assem_per_req_avg', 'n_request_avg']\n",
        "16\n",
        "[-1.0, 5, -1.0, 10, 2, 1.0, 0.25, '[0.25, 0.5, 0.75, 1]', True, 3, 0, 3, 0.5, 3, 50]\n",
        "[-1.0, 5, -1.0, 15, 2, 0.5, 0.25, '[0.25, 0.5, 0.75, 1]', False, 3, 2, 3, 1.0, 3, 50]\n",
        "[-1.0, 5, -1.0, 15, 2, 1.0, 0.25, '[0.25, 0.5, 0.75, 1]', False, 3, 2, 3, 1.0, 3, 20]\n",
        "[-1.0, 5, -1.0, 15, 2, 1.0, 0.25, '[0.25, 0.5, 0.75, 1]', False, 3, 0, 3, 1.0, 1, 50]\n",
        "[-1.0, 5, -1.0, 15, 2, 1.0, 0.25, '[0.25, 0.5, 0.75, 1]', True, 3, 2, 3, 1.0, 3, 50]\n",
        "[-1.0, 5, 0.5, 10, 2, 1.0, 0.25, '[0.25, 0.5, 0.75, 1]', False, 1, 0, 3, 1.0, 1, 50]\n",
        "[-1.0, 5, 0.5, 10, 2, 1.0, 0.25, '[0.25, 0.5, 0.75, 1]', False, 1, 2, 3, 1.0, 1, 50]\n",
        "[-1.0, 5, 0.5, 10, 2, 1.0, 0.25, '[0.25, 0.5, 0.75, 1]', True, 3, 2, 3, 1.0, 3, 50]\n",
        "[-1.0, 5, 0.5, 15, 2, 1.0, 0.25, '[0.25, 0.5, 0.75, 1]', False, 1, 2, 3, 0.5, 3, 50]\n",
        "[-1.0, 5, 0.5, 15, 2, 1.0, 0.25, '[0.25, 0.5, 0.75, 1]', False, 1, 0, 3, 1.0, 3, 50]\n",
        "[-1.0, 5, 0.5, 15, 2, 1.0, 0.25, '[0.25, 0.5, 0.75, 1]', False, 1, 2, 3, 1.0, 3, 50]\n",
        "[-1.0, 5, 0.5, 15, 2, 1.0, 0.25, '[0.25, 0.5, 0.75, 1]', True, 3, 2, 3, 0.5, 3, 50]\n",
        "[0.5, 5, 0.5, 10, 2, 1.0, 0.25, '[0.25, 0.5, 0.75, 1]', False, 3, 0, 3, 0.5, 3, 50]\n",
        "[0.5, 5, 0.5, 10, 2, 1.0, 0.25, '[0.25, 0.5, 0.75, 1]', False, 3, 2, 3, 1.0, 1, 50]\n",
        "[0.5, 5, 0.5, 10, 2, 1.0, 0.25, '[0.25, 0.5, 0.75, 1]', False, 3, 0, 3, 1.0, 3, 50]\n",
        "[0.5, 5, 0.5, 10, 2, 1.0, 0.25, '[0.25, 0.5, 0.75, 1]', False, 3, 2, 3, 1.0, 3, 50]\n"
       ]
      }
     ],
     "prompt_number": 376
    },
    {
     "cell_type": "code",
     "collapsed": false,
     "input": [
      "def count_elems(lst, verbose=False):\n",
      "    c = defaultdict(int)\n",
      "    for x in lst:\n",
      "        c[x] += 1\n",
      "    if verbose:\n",
      "        for k, v in c.items():\n",
      "            print(k, v)\n",
      "    return c"
     ],
     "language": "python",
     "metadata": {},
     "outputs": [],
     "prompt_number": 382
    },
    {
     "cell_type": "code",
     "collapsed": false,
     "input": [
      "lst = [(x[constr_idx], x[excl_idx], x[sidx('assem_multi_commod_cutoff')], x[sidx('n_sup_constr_avg')]) for x in max_samplers]\n",
      "c = count_elems(lst, verbose=True)"
     ],
     "language": "python",
     "metadata": {},
     "outputs": [
      {
       "output_type": "stream",
       "stream": "stdout",
       "text": [
        "(0.25, 1.0, -1.0, 1) 10\n",
        "(0.25, 1.0, -1.0, 3) 33\n",
        "(0.25, 0.5, -1.0, 3) 2\n"
       ]
      }
     ],
     "prompt_number": 390
    },
    {
     "cell_type": "code",
     "collapsed": false,
     "input": [
      "lst = [(x[constr_idx], x[excl_idx], x[sidx('assem_multi_commod_cutoff')], x[sidx('n_sup_constr_avg')]) for x in mid_samplers]\n",
      "c = count_elems(lst, verbose=True)"
     ],
     "language": "python",
     "metadata": {},
     "outputs": [
      {
       "output_type": "stream",
       "stream": "stdout",
       "text": [
        "(0.25, 1.0, -1.0, 1) 5\n",
        "(0.25, 1.0, -1.0, 3) 6\n",
        "(0.25, 1.0, 0.5, 3) 4\n",
        "(0.25, 0.5, -1.0, 3) 1\n"
       ]
      }
     ],
     "prompt_number": 391
    },
    {
     "cell_type": "code",
     "collapsed": false,
     "input": [
      "lst = [(x[constr_idx], x[excl_idx], x[sidx('assem_multi_commod_cutoff')], x[sidx('n_sup_constr_avg')]) for x in min_samplers]\n",
      "c = count_elems(lst, verbose=True)"
     ],
     "language": "python",
     "metadata": {},
     "outputs": [
      {
       "output_type": "stream",
       "stream": "stdout",
       "text": [
        "(1.0, 0.5, -1.0, 3) 128\n",
        "(0.25, -1.0, -1.0, 1) 128\n",
        "(1.0, 0.5, 0.5, 1) 128\n",
        "(1.0, 1.0, 0.5, 3) 128\n",
        "(1.0, 1.0, -1.0, 3) 128\n",
        "(0.25, 1.0, -1.0, 3) 89\n",
        "(0.25, -1.0, 0.5, 1) 128\n",
        "(0.25, 1.0, 0.5, 3) 124\n",
        "(0.25, 0.5, -1.0, 3) 125\n",
        "(1.0, -1.0, 0.5, 3) 128\n",
        "(0.25, -1.0, -1.0, 3) 128\n",
        "(1.0, 0.5, -1.0, 1) 128\n",
        "(1.0, 0.5, 0.5, 3) 128\n",
        "(1.0, 1.0, 0.5, 1) 128\n",
        "(0.25, 0.5, 0.5, 1) 128\n",
        "(0.25, 1.0, -1.0, 1) 113\n",
        "(1.0, -1.0, 0.5, 1) 128\n",
        "(0.25, 0.5, -1.0, 1) 128\n",
        "(1.0, -1.0, -1.0, 1) 128\n",
        "(1.0, 1.0, -1.0, 1) 128\n",
        "(0.25, -1.0, 0.5, 3) 128\n",
        "(0.25, 1.0, 0.5, 1) 128\n",
        "(0.25, 0.5, 0.5, 3) 128\n",
        "(1.0, -1.0, -1.0, 3) 128\n"
       ]
      }
     ],
     "prompt_number": 388
    },
    {
     "cell_type": "code",
     "collapsed": false,
     "input": [
      "lst = [(x[constr_idx], x[excl_idx], x[sidx('assem_multi_commod_cutoff')], x[sidx('n_req_constr_avg')]) for x in mid_samplers]\n",
      "c = count_elems(lst, verbose=True)"
     ],
     "language": "python",
     "metadata": {},
     "outputs": [
      {
       "output_type": "stream",
       "stream": "stdout",
       "text": [
        "(0.25, 1.0, -1.0, 0) 4\n",
        "(0.25, 1.0, -1.0, 2) 7\n",
        "(0.25, 1.0, 0.5, 2) 2\n",
        "(0.25, 1.0, 0.5, 0) 2\n",
        "(0.25, 0.5, -1.0, 2) 1\n"
       ]
      }
     ],
     "prompt_number": 393
    },
    {
     "cell_type": "code",
     "collapsed": false,
     "input": [],
     "language": "python",
     "metadata": {},
     "outputs": []
    }
   ],
   "metadata": {}
  }
 ]
}