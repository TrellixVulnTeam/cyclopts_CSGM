{
 "metadata": {
  "name": ""
 },
 "nbformat": 3,
 "nbformat_minor": 0,
 "worksheets": [
  {
   "cells": [
    {
     "cell_type": "markdown",
     "metadata": {},
     "source": [
      "Cyclopts Output Classification\n",
      "==============================\n",
      "\n",
      "This notebook is used for classifying instances that take a *long* time. \"Long\" in this context is means over a minute or so. "
     ]
    },
    {
     "cell_type": "code",
     "collapsed": false,
     "input": [
      "from __future__ import print_function\n",
      "\n",
      "%matplotlib inline\n",
      "%load_ext autoreload\n",
      "%autoreload 2\n",
      "\n",
      "import matplotlib.pyplot as plt\n",
      "import numpy as np\n",
      "import tables as t\n",
      "from collections import defaultdict\n",
      "import os\n",
      "from cyclopts import tools, analysis"
     ],
     "language": "python",
     "metadata": {},
     "outputs": [
      {
       "output_type": "stream",
       "stream": "stdout",
       "text": [
        "The autoreload extension is already loaded. To reload it, use:\n",
        "  %reload_ext autoreload\n"
       ]
      }
     ],
     "prompt_number": 2
    },
    {
     "cell_type": "code",
     "collapsed": false,
     "input": [
      "prefix = '../../exec/run_results/'\n",
      "fname = 'combined.h5'\n",
      "dirname = 'small-long-times'\n",
      "f = t.open_file(os.path.join(prefix, dirname, fname), mode='r')\n",
      "\n",
      "props = f.root.Instances.ExchangeInstProperties\n",
      "samplers = f.root.ReactorRequestSampler\n",
      "grps = f.root.Instances.ExchangeGroups\n",
      "results = f.root.Results.General\n",
      "flows = f.root.Instances.ExchangeInstSolutions"
     ],
     "language": "python",
     "metadata": {},
     "outputs": [],
     "prompt_number": 3
    },
    {
     "cell_type": "code",
     "collapsed": false,
     "input": [
      "samplers.description._v_names"
     ],
     "language": "python",
     "metadata": {},
     "outputs": [
      {
       "metadata": {},
       "output_type": "pyout",
       "prompt_number": 54,
       "text": [
        "['pref_coeff_dist',\n",
        " 'pref_coeff_lb',\n",
        " 'pref_coeff_ub',\n",
        " 'assem_multi_commod_cutoff',\n",
        " 'assem_multi_commod_dist',\n",
        " 'n_commods_avg',\n",
        " 'n_commods_dist',\n",
        " 'sup_multi_cutoff',\n",
        " 'sup_multi_dist',\n",
        " 'n_supply_avg',\n",
        " 'n_supply_dist',\n",
        " 'sup_multi_commods_avg',\n",
        " 'sup_multi_commods_dist',\n",
        " 'exclusive_cutoff',\n",
        " 'exclusive_dist',\n",
        " 'sup_constr_val_cutoff',\n",
        " 'sup_constr_val_fracs',\n",
        " 'sup_constr_val_rand',\n",
        " 'n_sup_constr_avg',\n",
        " 'n_sup_constr_dist',\n",
        " 'n_req_constr_avg',\n",
        " 'n_req_constr_dist',\n",
        " 'req_multi_commods_avg',\n",
        " 'req_multi_commods_dist',\n",
        " 'connection_cutoff',\n",
        " 'connection_dist',\n",
        " 'req_qty_avg',\n",
        " 'req_qty_dist',\n",
        " 'assem_per_req_avg',\n",
        " 'assem_per_req_dist',\n",
        " 'n_request_avg',\n",
        " 'n_request_dist',\n",
        " 'paramid',\n",
        " 'constr_coeff_dist',\n",
        " 'constr_coeff_lb',\n",
        " 'constr_coeff_ub']"
       ]
      }
     ],
     "prompt_number": 54
    },
    {
     "cell_type": "code",
     "collapsed": false,
     "input": [
      "cyclus_limit_hrs = 3 # time limit on a cyclus run\n",
      "lb = 10 * 60 # 2 minutes in s\n",
      "ub = cyclus_limit_hrs * 60 * 60 # in s\n",
      "solver = 'cbc'\n",
      "\n",
      "min_iids = [x['instid'] for x in results.where(\"\"\"(solver == solver) & (time < lb)\"\"\")]\n",
      "mid_iids = [x['instid'] for x in results.where(\"\"\"(solver == solver) & (time > lb) & (time < ub)\"\"\")]\n",
      "max_iids = [x['instid'] for x in results.where(\"\"\"(solver == solver) & (time > ub)\"\"\")]\n",
      "\n",
      "min_pids = {x['instid']: x['paramid'] for x in props.iterrows() if x['instid'] in min_iids}\n",
      "mid_pids = {x['instid']: x['paramid'] for x in props.iterrows() if x['instid'] in mid_iids}\n",
      "max_pids = {x['instid']: x['paramid'] for x in props.iterrows() if x['instid'] in max_iids}\n",
      "\n",
      "min_samplers = [x[:] for x in samplers.iterrows() if x['paramid'] in min_pids.values()]\n",
      "mid_samplers = [x[:] for x in samplers.iterrows() if x['paramid'] in mid_pids.values()]\n",
      "max_samplers = [x[:] for x in samplers.iterrows() if x['paramid'] in max_pids.values()]\n",
      "\n",
      "constr_idx = samplers.description._v_names.index('sup_constr_val_cutoff')\n",
      "rand_idx = samplers.description._v_names.index('sup_constr_val_rand')\n",
      "excl_idx = samplers.description._v_names.index('exclusive_cutoff')\n",
      "\n",
      "len(min_iids), len(mid_iids), len(max_iids)"
     ],
     "language": "python",
     "metadata": {},
     "outputs": [
      {
       "metadata": {},
       "output_type": "pyout",
       "prompt_number": 69,
       "text": [
        "(9161, 10, 45)"
       ]
      }
     ],
     "prompt_number": 69
    },
    {
     "cell_type": "code",
     "collapsed": false,
     "input": [
      "cutoffs = (set(x[constr_idx] for x in mid_samplers + max_samplers), set(x[constr_idx] for x in min_samplers))\n",
      "cutoffs"
     ],
     "language": "python",
     "metadata": {},
     "outputs": [
      {
       "metadata": {},
       "output_type": "pyout",
       "prompt_number": 63,
       "text": [
        "({0.25}, {0.25, 1.0})"
       ]
      }
     ],
     "prompt_number": 63
    },
    {
     "cell_type": "code",
     "collapsed": false,
     "input": [
      "rands = (set(x[rand_idx] for x in mid_samplers + max_samplers), set(x[rand_idx] for x in min_samplers))\n",
      "rands"
     ],
     "language": "python",
     "metadata": {},
     "outputs": [
      {
       "metadata": {},
       "output_type": "pyout",
       "prompt_number": 64,
       "text": [
        "({False, True}, {False, True})"
       ]
      }
     ],
     "prompt_number": 64
    },
    {
     "cell_type": "code",
     "collapsed": false,
     "input": [
      "excls = (set(x[excl_idx] for x in mid_samplers + max_samplers), set(x[excl_idx] for x in min_samplers))\n",
      "excls"
     ],
     "language": "python",
     "metadata": {},
     "outputs": [
      {
       "metadata": {},
       "output_type": "pyout",
       "prompt_number": 65,
       "text": [
        "({0.5, 1.0}, {-1.0, 0.5, 1.0})"
       ]
      }
     ],
     "prompt_number": 65
    },
    {
     "cell_type": "code",
     "collapsed": false,
     "input": [],
     "language": "python",
     "metadata": {},
     "outputs": [],
     "prompt_number": 65
    },
    {
     "cell_type": "code",
     "collapsed": false,
     "input": [],
     "language": "python",
     "metadata": {},
     "outputs": []
    }
   ],
   "metadata": {}
  }
 ]
}