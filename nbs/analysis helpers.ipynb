{
 "metadata": {
  "name": "",
  "signature": "sha256:7dec4d993823f7cd200aad4ed09b0f30af62c70b353b69b318485d0f4bb06b4c"
 },
 "nbformat": 3,
 "nbformat_minor": 0,
 "worksheets": [
  {
   "cells": [
    {
     "cell_type": "code",
     "collapsed": false,
     "input": [
      "from __future__ import print_function\n",
      "\n",
      "%matplotlib inline\n",
      "%load_ext autoreload\n",
      "%autoreload 2\n",
      "\n",
      "import matplotlib.pyplot as plt\n",
      "import numpy as np\n",
      "import tables as t\n",
      "from collections import defaultdict\n",
      "import os\n",
      "from cyclopts import tools, analysis\n",
      "from cyclopts import io_tools"
     ],
     "language": "python",
     "metadata": {},
     "outputs": [
      {
       "output_type": "stream",
       "stream": "stdout",
       "text": [
        "The autoreload extension is already loaded. To reload it, use:\n",
        "  %reload_ext autoreload\n"
       ]
      }
     ],
     "prompt_number": 34
    },
    {
     "cell_type": "code",
     "collapsed": false,
     "input": [
      "# configurable input\n",
      "mod_kind = 'rxtr' # rxtr or reqr or rand\n",
      "\n",
      "if mod_kind == 'rxtr':\n",
      "    species_module = \"cyclopts.structured_species.request\"\n",
      "    species_class = \"StructuredRequest\"\n",
      "elif mod_kind == 'reqr':\n",
      "    species_module = \"cyclopts.structured_species.supply\"\n",
      "    species_class = \"StructuredSupply\"  \n",
      "elif mod_kind == 'rand':\n",
      "    species_module = \"cyclopts.random_request_species\"\n",
      "    species_class = \"RandomRequest\"   \n",
      "\n",
      "family_module = \"cyclopts.exchange_family\"\n",
      "family_class = \"ResourceExchange\"\n",
      "# imports\n",
      "import importlib\n",
      "fam_mod = importlib.import_module(family_module)\n",
      "fam_cls = getattr(fam_mod, family_class)\n",
      "sp_mod = importlib.import_module(species_module)\n",
      "sp_cls = getattr(sp_mod, species_class)\n",
      "\n",
      "\n"
     ],
     "language": "python",
     "metadata": {},
     "outputs": [],
     "prompt_number": 35
    },
    {
     "cell_type": "code",
     "collapsed": false,
     "input": [
      "\n",
      "data = analysis.cyclopts_data(h5file, fam_cls(), sp_cls())"
     ],
     "language": "python",
     "metadata": {},
     "outputs": []
    },
    {
     "cell_type": "code",
     "collapsed": false,
     "input": [
      "def full_path(base, dirname, fname):\n",
      "    return os.path.join(os.path.expanduser(base), dirname, fname)"
     ],
     "language": "python",
     "metadata": {},
     "outputs": [],
     "prompt_number": 36
    },
    {
     "cell_type": "code",
     "collapsed": false,
     "input": [
      "#dirnames = ['ratio_0_1_{0}_0', 'base_{0}_0', 'ratio_10_{0}_0']\n",
      "#ratios = [0.1, 1, 10]\n",
      "\n",
      "dirnames = ['base_{0}_1', 'ratio_10_{0}_1']\n",
      "ratios = [1, 10]\n",
      "\n",
      "dirnames = [x.format(mod_kind) for x in dirnames]\n",
      "ratio_to_dir = {x: dirnames[i] for i, x in enumerate(ratios)}\n",
      "base = '~/phd/cyclopts/structured_runs/'\n",
      "fname = 'combined.h5'"
     ],
     "language": "python",
     "metadata": {},
     "outputs": [],
     "prompt_number": 37
    },
    {
     "cell_type": "code",
     "collapsed": false,
     "input": [
      ", below=0.8e9# iids needed from one file\n",
      "dirname = dirnames[1]\n",
      "f = t.open_file(full_path(base, dirname, fname), mode='r')\n",
      "rows = f.root.Results.read_where(\"\"\"solver == x\"\"\", condvars={'x': 'cbc'})\n",
      "iids = set(x['instid'] for x in rows)\n",
      "inst_props = io_tools.tbl_to_dict(f.root.Family.ResourceExchange.ExchangeInstProperties, 'instid')\n",
      "f.close()"
     ],
     "language": "python",
     "metadata": {},
     "outputs": [
      {
       "ename": "NameError",
       "evalue": "name 'below' is not defined",
       "output_type": "pyerr",
       "traceback": [
        "\u001b[0;31m---------------------------------------------------------------------------\u001b[0m\n\u001b[0;31mNameError\u001b[0m                                 Traceback (most recent call last)",
        "\u001b[0;32m<ipython-input-38-7449b279f42b>\u001b[0m in \u001b[0;36m<module>\u001b[0;34m()\u001b[0m\n\u001b[0;32m----> 1\u001b[0;31m \u001b[0mbelow\u001b[0m\u001b[0;34m(\u001b[0m\u001b[0;34m\"=0.8e9#\"\u001b[0m\u001b[0;34m,\u001b[0m \u001b[0;34m\"iids\"\u001b[0m\u001b[0;34m,\u001b[0m \u001b[0;34m\"needed\"\u001b[0m\u001b[0;34m,\u001b[0m \u001b[0;34m\"from\"\u001b[0m\u001b[0;34m,\u001b[0m \u001b[0;34m\"one\"\u001b[0m\u001b[0;34m,\u001b[0m \u001b[0;34m\"file\"\u001b[0m\u001b[0;34m)\u001b[0m\u001b[0;34m\u001b[0m\u001b[0m\n\u001b[0m\u001b[1;32m      2\u001b[0m \u001b[0mdirname\u001b[0m \u001b[0;34m=\u001b[0m \u001b[0mdirnames\u001b[0m\u001b[0;34m[\u001b[0m\u001b[0;36m1\u001b[0m\u001b[0;34m]\u001b[0m\u001b[0;34m\u001b[0m\u001b[0m\n\u001b[1;32m      3\u001b[0m \u001b[0mf\u001b[0m \u001b[0;34m=\u001b[0m \u001b[0mt\u001b[0m\u001b[0;34m.\u001b[0m\u001b[0mopen_file\u001b[0m\u001b[0;34m(\u001b[0m\u001b[0mfull_path\u001b[0m\u001b[0;34m(\u001b[0m\u001b[0mbase\u001b[0m\u001b[0;34m,\u001b[0m \u001b[0mdirname\u001b[0m\u001b[0;34m,\u001b[0m \u001b[0mfname\u001b[0m\u001b[0;34m)\u001b[0m\u001b[0;34m,\u001b[0m \u001b[0mmode\u001b[0m\u001b[0;34m=\u001b[0m\u001b[0;34m'r'\u001b[0m\u001b[0;34m)\u001b[0m\u001b[0;34m\u001b[0m\u001b[0m\n\u001b[1;32m      4\u001b[0m \u001b[0mrows\u001b[0m \u001b[0;34m=\u001b[0m \u001b[0mf\u001b[0m\u001b[0;34m.\u001b[0m\u001b[0mroot\u001b[0m\u001b[0;34m.\u001b[0m\u001b[0mResults\u001b[0m\u001b[0;34m.\u001b[0m\u001b[0mread_where\u001b[0m\u001b[0;34m(\u001b[0m\u001b[0;34m\"\"\"solver == x\"\"\"\u001b[0m\u001b[0;34m,\u001b[0m \u001b[0mcondvars\u001b[0m\u001b[0;34m=\u001b[0m\u001b[0;34m{\u001b[0m\u001b[0;34m'x'\u001b[0m\u001b[0;34m:\u001b[0m \u001b[0;34m'cbc'\u001b[0m\u001b[0;34m}\u001b[0m\u001b[0;34m)\u001b[0m\u001b[0;34m\u001b[0m\u001b[0m\n\u001b[1;32m      5\u001b[0m \u001b[0miids\u001b[0m \u001b[0;34m=\u001b[0m \u001b[0mset\u001b[0m\u001b[0;34m(\u001b[0m\u001b[0mx\u001b[0m\u001b[0;34m[\u001b[0m\u001b[0;34m'instid'\u001b[0m\u001b[0;34m]\u001b[0m \u001b[0;32mfor\u001b[0m \u001b[0mx\u001b[0m \u001b[0;32min\u001b[0m \u001b[0mrows\u001b[0m\u001b[0;34m)\u001b[0m\u001b[0;34m\u001b[0m\u001b[0m\n",
        "\u001b[0;31mNameError\u001b[0m: name 'below' is not defined"
       ]
      }
     ],
     "prompt_number": 38
    },
    {
     "cell_type": "code",
     "collapsed": false,
     "input": [
      ", below=0.8e9, below=0.8e9#\n",
      "# basic per file aggregations\n",
      "#\n",
      "def soln_aggs(f, by='sid'): \n",
      "    # info from Results table\n",
      "    rows = f.root.Results.read_where(\"\"\"solver == x\"\"\", condvars={'x': 'cbc'})\n",
      "    iid_to_sids = {x['instid']: x['solnid'] for x in rows}\n",
      "    sids = set(iid_to_sids.values())\n",
      "    objs = {x['solnid']: x['objective'] for x in rows}\n",
      "    times = {x['solnid']: x['time'] for x in rows}\n",
      "\n",
      "    # info from Family Solution Props\n",
      "    rows = f.root.Family.ResourceExchange.PostProcess.read()\n",
      "    pflow = {x['solnid']: x['pref_flow'] for x in rows}\n",
      "    pflow = {k: v for k, v in pflow.items() if k in sids} # subset where solver == cbc\n",
      "\n",
      "    # info from Species Solution Props\n",
      "    if mod_kind == 'reqr':\n",
      "        rows = f.root.Species.StructuredSupply.PostProcess.read()\n",
      "    else:\n",
      "        rows = f.root.Species.StructuredRequest.PostProcess.read()\n",
      "    pcflow = {x['solnid']: x['c_pref_flow'] for x in rows}\n",
      "    pcflow = {k: v for k, v in pcflow.items() if k in sids} # subset where solver == cbc\n",
      "    plflow = {k: pflow[k] - v for k, v in pcflow.items()} # hack because loc flow is recorded without ratio\n",
      "\n",
      "    if by == 'sid': # by solnid\n",
      "        return {x: np.array((objs[x], pflow[x], pcflow[x], plflow[x])) for x in sids}\n",
      "    else: # by instid\n",
      "        sid_to_iid = {v: k for k, v in iid_to_sids.items()}\n",
      "        return {sid_to_iid[x]: np.array((times[x], objs[x], pflow[x], pcflow[x], plflow[x])) for x in sids}"
     ],
     "language": "python",
     "metadata": {},
     "outputs": []
    },
    {
     "cell_type": "code",
     "collapsed": false,
     "input": [
      "h5files = [t.open_file(full_path(base, x, fname), mode='r') for x in dirnames]\n",
      "data = [soln_aggs(f, by='iid') for f in h5files]"
     ],
     "language": "python",
     "metadata": {},
     "outputs": []
    },
    {
     "cell_type": "code",
     "collapsed": false,
     "input": [
      "def relative_values(xdata, ydata, idx=None):\n",
      "    if idx is None:\n",
      "        return {k: (xdata[k] - ydata[k]) / xdata[k] for k in xdata.keys()}\n",
      "    else:\n",
      "        return {k: (xdata[k][idx] - ydata[k][idx]) / xdata[k][idx] for k in xdata.keys()}"
     ],
     "language": "python",
     "metadata": {},
     "outputs": []
    },
    {
     "cell_type": "code",
     "collapsed": false,
     "input": [
      "# soln time\n",
      "rel_data = [relative_values(data[0], data[i], idx=0) for i in range(1, len(dirnames))]\n",
      "print(np.average(rel_data[0].values())) # average relative time saved by increasing ratio gap from 0.1 to 1%\n",
      "print(np.average(rel_data[1].values())) # average relative time saved by increasing ratio gap from 0.1 to 10%"
     ],
     "language": "python",
     "metadata": {},
     "outputs": []
    },
    {
     "cell_type": "code",
     "collapsed": false,
     "input": [
      "# obj\n",
      "rel_data = [relative_values(data[0], data[i], idx=1) for i in range(1, len(dirnames))]\n",
      "print(np.average(rel_data[0].values())) # average relative time saved by increasing ratio gap from 0.1 to 1%\n",
      "print(np.average(rel_data[1].values())) # average relative time saved by increasing ratio gap from 0.1 to 10%"
     ],
     "language": "python",
     "metadata": {},
     "outputs": []
    },
    {
     "cell_type": "code",
     "collapsed": false,
     "input": [
      "# pref flow\n",
      "rel_data = [relative_values(data[0], data[i], idx=2) for i in range(1, len(dirnames))]\n",
      "print(np.average(rel_data[0].values())) # average relative time saved by increasing ratio gap from 0.1 to 1%\n",
      "print(np.average(rel_data[1].values())) # average relative time saved by increasing ratio gap from 0.1 to 10%"
     ],
     "language": "python",
     "metadata": {},
     "outputs": []
    },
    {
     "cell_type": "code",
     "collapsed": false,
     "input": [
      "for i in range(len(dirnames)):\n",
      "    _, _, _ = plt.hist([data[i][k][0] / inst_props[k]['n_arcs'] for k in data[i].keys()], bins=50, alpha=0.5)\n",
      "#_, _, _ = plt.hist([data[0][k][0] / inst_props[k]['n_arcs'] for k in data[0].keys()], bins=50, alpha=0.5)\n",
      "#_, _, _ = plt.hist([data[1][k][0] / inst_props[k]['n_arcs'] for k in data[1].keys()], bins=50, alpha=0.5)\n",
      "#_, _, _ = plt.hist([data[2][k][0] / inst_props[k]['n_arcs'] for k in data[2].keys()], bins=50, alpha=0.5)"
     ],
     "language": "python",
     "metadata": {},
     "outputs": []
    },
    {
     "cell_type": "code",
     "collapsed": false,
     "input": [
      "labels = ['0.1%', '1%', '10%']\n",
      "for i in range(len(dirnames)):\n",
      "    _, _, _ = plt.hist([data[i][k][2] / inst_props[k]['n_arcs'] for k in data[i].keys()], bins=75, alpha=0.5, label=labels[i])\n",
      "    \n",
      "#_, _, _ = plt.hist([data[0][k][2] / inst_props[k]['n_arcs'] for k in data[0].keys()], bins=75, alpha=0.5, label='0.1%')\n",
      "#_, _, _ = plt.hist([data[1][k][2] / inst_props[k]['n_arcs'] for k in data[1].keys()], bins=75, alpha=0.5, label='1%')\n",
      "#_, _, _ = plt.hist([data[2][k][2] / inst_props[k]['n_arcs'] for k in data[2].keys()], bins=75, alpha=0.5, label='10%')\n",
      "plt.title('Distribution of Arc-Normalized Preference Flows')\n",
      "plt.xlabel('Value')\n",
      "plt.ylabel('Population')\n",
      "plt.legend()\n",
      "plt.savefig('dist.png')"
     ],
     "language": "python",
     "metadata": {},
     "outputs": []
    },
    {
     "cell_type": "code",
     "collapsed": false,
     "input": [
      "for i in range(len(dirnames)):\n",
      "    _, _, _ = plt.hist([data[i][k][2]for k in data[i].keys()], bins=100, alpha=0.5)\n",
      "#_, _, _ = plt.hist([data[0][k][2]for k in data[0].keys()], bins=100, alpha=0.5)\n",
      "#_, _, _ = plt.hist([data[1][k][2] for k in data[1].keys()], bins=100, alpha=0.5)\n",
      "#_, _, _ = plt.hist([data[2][k][2] for k in data[2].keys()], bins=100, alpha=0.5)"
     ],
     "language": "python",
     "metadata": {},
     "outputs": []
    },
    {
     "cell_type": "code",
     "collapsed": false,
     "input": [
      "rel_data = [relative_values(data[0], data[i], idx=2) for i in range(1, len(dirnames))]\n",
      "_, _, _ = plt.hist([rel_data[0][k] for k in rel_data[0].keys()], bins=100, alpha=0.5)\n",
      "_, _, _ = plt.hist([rel_data[1][k] for k in rel_data[1].keys()], bins=100, alpha=0.5)"
     ],
     "language": "python",
     "metadata": {},
     "outputs": []
    },
    {
     "cell_type": "code",
     "collapsed": false,
     "input": [
      "# pref flow\n",
      "obj_data = [relative_values(data[0], data[i], idx=1) for i in range(1, len(dirnames))]\n",
      "# obj\n",
      "flow_data = [relative_values(data[0], data[i], idx=2) for i in range(1, len(dirnames))]\n",
      "\n",
      "ratios = []\n",
      "ids = obj_data[0].keys()\n",
      "for i in range(len(obj_data)):\n",
      "    x = []\n",
      "    for k in ids:\n",
      "        #print(obj_data[i][k], flow_data[i][k])\n",
      "        if obj_data[i][k] != 0.0:\n",
      "            ratio = flow_data[i][k] / obj_data[i][k]\n",
      "            if abs(ratio) < 1e4:\n",
      "                x.append(ratio)\n",
      "    ratios.append(x)\n",
      "\n",
      "_, _, _ = plt.hist(ratios[0], bins=20, alpha=0.5)\n",
      "_, _, _ = plt.hist(ratios[1], bins=20, alpha=0.5)\n",
      "#ratios[1]\n",
      "\n",
      "#ratios = [flow_data[i][k] / obj_data[i][k] if obj_data[i][k] > 0 for i in range(2) for k in obj_data.keys() ]"
     ],
     "language": "python",
     "metadata": {},
     "outputs": []
    },
    {
     "cell_type": "code",
     "collapsed": false,
     "input": [],
     "language": "python",
     "metadata": {},
     "outputs": []
    }
   ],
   "metadata": {}
  }
 ]
}