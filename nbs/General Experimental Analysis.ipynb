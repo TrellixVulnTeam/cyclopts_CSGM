{
 "metadata": {
  "name": ""
 },
 "nbformat": 3,
 "nbformat_minor": 0,
 "worksheets": [
  {
   "cells": [
    {
     "cell_type": "code",
     "collapsed": false,
     "input": [
      "from __future__ import print_function\n",
      "\n",
      "%load_ext autoreload\n",
      "%autoreload 2\n",
      "\n",
      "import matplotlib.pyplot as plt\n",
      "import numpy as np\n",
      "import tables as t\n",
      "from collections import defaultdict\n",
      "import os\n",
      "from cyclopts import tools as tools\n",
      "from cyclopts import cyclopts_io as cycio\n",
      "from cyclopts import analysis\n",
      "from cyclopts.analysis import grab_data, param_to_iids"
     ],
     "language": "python",
     "metadata": {},
     "outputs": [
      {
       "output_type": "stream",
       "stream": "stdout",
       "text": [
        "The autoreload extension is already loaded. To reload it, use:\n",
        "  %reload_ext autoreload\n"
       ]
      }
     ],
     "prompt_number": 19
    },
    {
     "cell_type": "code",
     "collapsed": false,
     "input": [
      "# configurable input\n",
      "mod_kind = 'reqr' # rxtr or reqr or rand\n",
      "dirname = 'base_{kind}_1'.format(kind=mod_kind)\n",
      "base = '~/phd/cyclopts/structured_runs/'\n",
      "\n",
      "if mod_kind == 'rxtr':\n",
      "    species_module = \"cyclopts.structured_species.request\"\n",
      "    species_class = \"StructuredRequest\"\n",
      "elif mod_kind == 'reqr':\n",
      "    species_module = \"cyclopts.structured_species.supply\"\n",
      "    species_class = \"StructuredSupply\"  \n",
      "elif mod_kind == 'rand':\n",
      "    species_module = \"cyclopts.random_request_species\"\n",
      "    species_class = \"RandomRequest\"   \n",
      "\n",
      "family_module = \"cyclopts.exchange_family\"\n",
      "family_class = \"ResourceExchange\"\n",
      "fname = 'combined.h5'\n",
      "fullpath = os.path.join(os.path.expanduser(base), dirname)"
     ],
     "language": "python",
     "metadata": {},
     "outputs": [],
     "prompt_number": 20
    },
    {
     "cell_type": "code",
     "collapsed": false,
     "input": [
      "# imports and opens\n",
      "import importlib\n",
      "fam_mod = importlib.import_module(family_module)\n",
      "fam_cls = getattr(fam_mod, family_class)\n",
      "sp_mod = importlib.import_module(species_module)\n",
      "sp_cls = getattr(sp_mod, species_class)\n",
      "f = t.open_file(os.path.join(fullpath, fname), mode='r')"
     ],
     "language": "python",
     "metadata": {},
     "outputs": [],
     "prompt_number": 21
    },
    {
     "cell_type": "code",
     "collapsed": false,
     "input": [
      "# reusable constants\n",
      "res_path = cycio.PathMap().path\n",
      "instids = set(grab_data(f, res_path, 'instid'))\n",
      "solvers = ['greedy', 'clp', 'cbc']\n",
      "\n",
      "base = '~/phd/cyclopts/structured_runs/'\n",
      "times = {s: grab_data(f, res_path, 'time', ('solver', [s])) for s in solvers}\n",
      "objs = {s: grab_data(f, res_path, 'objective', ('solver', [s])) for s in solvers}\n",
      "\n",
      "save = True"
     ],
     "language": "python",
     "metadata": {},
     "outputs": [],
     "prompt_number": 22
    },
    {
     "cell_type": "code",
     "collapsed": false,
     "input": [
      "def all_scatter(param, save=False, ax=None):\n",
      "    xpmap = fam_mod.PathMap(param)\n",
      "    x = grab_data(f, xpmap.path, xpmap.col, ('instid', instids))\n",
      "    ax = analysis.multi_scatter(x, times, ax=ax)\n",
      "    ax.plot(x.values(), len(x) * [3 * 60 * 60]) # 3 hour limit\n",
      "    ax.set_title('all')\n",
      "    ax.set_xlabel(param)\n",
      "    ax.set_ylabel('Time (s)')\n",
      "    if save:\n",
      "        fname = os.path.join(fullpath, '{param}_all.{ext}'.format(param=param, ext='png'))\n",
      "        plt.savefig(fname)\n",
      "    return x, ax"
     ],
     "language": "python",
     "metadata": {},
     "outputs": [],
     "prompt_number": 23
    },
    {
     "cell_type": "code",
     "collapsed": false,
     "input": [
      "def simple_scatter(x, param, kind, save=False, ax=None):\n",
      "    if ax is None:\n",
      "        fig, ax = plt.subplots()\n",
      "    ax.scatter(x.values(), [times[kind][k] for k in x.keys()])\n",
      "    ax.set_xlim(0, max(x.values()))\n",
      "    ax.set_ylim(0)\n",
      "    ax.set_xlabel(param)\n",
      "    ax.set_ylabel('Time (s)')\n",
      "    ax.set_title(kind)\n",
      "    if (max(x) > 1e3):\n",
      "        ax.get_xaxis().get_major_formatter().set_powerlimits((0, 1))\n",
      "    if (max(times[kind].values()) > 1e3):\n",
      "        ax.get_yaxis().get_major_formatter().set_powerlimits((0, 1))\n",
      "\n",
      "    if save:\n",
      "        fname = os.path.join(fullpath, '{param}_{kind}.{ext}'.format(param=param, kind=kind, ext='png'))\n",
      "        plt.savefig(fname)\n",
      "    return ax"
     ],
     "language": "python",
     "metadata": {},
     "outputs": [],
     "prompt_number": 24
    },
    {
     "cell_type": "code",
     "collapsed": false,
     "input": [
      "def four_pane_scatter(param, save=False, saveall=False):\n",
      "    f, ((ax1, ax2), (ax3, ax4)) = plt.subplots(2, 2, sharex=True)\n",
      "    x, ax1 = all_scatter(param, ax=ax1)\n",
      "    ax2 = simple_scatter(x, param, 'cbc', ax=ax2)\n",
      "    ax3 = simple_scatter(x, param, 'greedy', ax=ax3)\n",
      "    ax4 = simple_scatter(x, param, 'clp', ax=ax4)\n",
      "    f.set_size_inches(1.5 * f.get_size_inches())\n",
      "    if save:\n",
      "        fname = os.path.join(fullpath, '{param}_4pane.{ext}'.format(param=param, ext='png'))\n",
      "        plt.savefig(fname)\n",
      "    if saveall:\n",
      "        all_scatter(param, save=saveall)\n",
      "        plt.close()\n",
      "        simple_scatter(x, param, 'cbc', save=saveall)\n",
      "        plt.close()\n",
      "        simple_scatter(x, param, 'greedy', save=saveall)\n",
      "        plt.close()\n",
      "        simple_scatter(x, param, 'clp', save=saveall)\n",
      "        plt.close()\n",
      "    "
     ],
     "language": "python",
     "metadata": {},
     "outputs": [],
     "prompt_number": 25
    },
    {
     "cell_type": "code",
     "collapsed": false,
     "input": [
      "param = 'n_arcs'\n",
      "four_pane_scatter(param, save=save, saveall=save)"
     ],
     "language": "python",
     "metadata": {},
     "outputs": [],
     "prompt_number": 33
    },
    {
     "cell_type": "code",
     "collapsed": false,
     "input": [
      "param = 'n_constrs'\n",
      "four_pane_scatter(param, save=save, saveall=save)"
     ],
     "language": "python",
     "metadata": {},
     "outputs": [],
     "prompt_number": 27
    },
    {
     "cell_type": "code",
     "collapsed": false,
     "input": [
      "param = 'pref_flow'\n",
      "four_pane_scatter(param, save=save, saveall=save)"
     ],
     "language": "python",
     "metadata": {},
     "outputs": [],
     "prompt_number": 28
    },
    {
     "cell_type": "code",
     "collapsed": false,
     "input": [],
     "language": "python",
     "metadata": {},
     "outputs": [],
     "prompt_number": 28
    },
    {
     "cell_type": "code",
     "collapsed": false,
     "input": [],
     "language": "python",
     "metadata": {},
     "outputs": [],
     "prompt_number": 29
    },
    {
     "cell_type": "code",
     "collapsed": false,
     "input": [
      "def colored_scatter(x, kind, id_mapping, ax=None):\n",
      "    if ax is None:\n",
      "        fig, ax = plt.subplots()\n",
      "    ax.scatter(x.values(), [times[kind][k] for k in x.keys()], c=[id_mapping[k] for k in x.keys()])\n",
      "    ax.set_xlim(0, max(x.values()))\n",
      "    ax.set_ylim(0)\n",
      "    ax.set_xlabel(param)\n",
      "    ax.set_ylabel('Time (s)')\n",
      "    ax.set_title(kind)\n",
      "    if (max(x) > 1e3):\n",
      "        ax.get_xaxis().get_major_formatter().set_powerlimits((0, 1))\n",
      "    if (max(times[kind].values()) > 1e3):\n",
      "        ax.get_yaxis().get_major_formatter().set_powerlimits((0, 1))\n",
      "\n",
      "    #if save:\n",
      "    #    fname = os.path.join(fullpath, '{param}_{kind}.{ext}'.format(param=param, kind=kind, ext='png'))\n",
      "    #    plt.savefig(fname)\n",
      "    return ax "
     ],
     "language": "python",
     "metadata": {},
     "outputs": [],
     "prompt_number": 37
    },
    {
     "cell_type": "code",
     "collapsed": false,
     "input": [
      "param = 'f_fc'\n",
      "fc_to_iids = param_to_iids(f, fam_mod.PathMap('n_arcs').path, sp_mod.PathMap(param).path, param)\n",
      "id_mapping = {iid: k for k, v in fc_to_iids.items() for iid in v}\n",
      "param = 'n_arcs'\n",
      "xpmap = fam_mod.PathMap(param)\n",
      "x = grab_data(f, xpmap.path, xpmap.col, ('instid', instids))\n",
      "colored_scatter(x, 'greedy', id_mapping)"
     ],
     "language": "python",
     "metadata": {},
     "outputs": [
      {
       "metadata": {},
       "output_type": "pyout",
       "prompt_number": 39,
       "text": [
        "<matplotlib.axes.AxesSubplot at 0x7f98fa9f22d0>"
       ]
      }
     ],
     "prompt_number": 39
    },
    {
     "cell_type": "code",
     "collapsed": false,
     "input": [],
     "language": "python",
     "metadata": {},
     "outputs": [],
     "prompt_number": 31
    }
   ],
   "metadata": {}
  }
 ]
}