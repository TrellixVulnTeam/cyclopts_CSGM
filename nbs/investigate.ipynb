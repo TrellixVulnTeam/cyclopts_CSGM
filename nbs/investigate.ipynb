{
 "metadata": {
  "name": ""
 },
 "nbformat": 3,
 "nbformat_minor": 0,
 "worksheets": [
  {
   "cells": [
    {
     "cell_type": "markdown",
     "metadata": {},
     "source": [
      "Cyclopts Results Investigation\n",
      "===============================\n",
      "\n",
      "This notebook provides a series of tools to confirm expected behavior of solutions and investigate possible errors thereof."
     ]
    },
    {
     "cell_type": "code",
     "collapsed": false,
     "input": [
      "from __future__ import print_function\n",
      "\n",
      "%matplotlib inline\n",
      "%load_ext autoreload\n",
      "%autoreload 2\n",
      "\n",
      "import matplotlib.pyplot as plt\n",
      "import numpy as np\n",
      "import tables as t\n",
      "from collections import defaultdict\n",
      "import os"
     ],
     "language": "python",
     "metadata": {},
     "outputs": [
      {
       "output_type": "stream",
       "stream": "stdout",
       "text": [
        "The autoreload extension is already loaded. To reload it, use:\n",
        "  %reload_ext autoreload\n"
       ]
      }
     ],
     "prompt_number": 6
    },
    {
     "cell_type": "code",
     "collapsed": false,
     "input": [
      "prefix = '../../exec/run_results/non_unity_261'\n",
      "fname = 'combined.h5'\n",
      "f = t.open_file(os.path.join(prefix, fname), mode='r')\n",
      "\n",
      "props = f.root.Instances.ExchangeInstProperties\n",
      "samplers = f.root.ReactorRequestSampler\n",
      "grps = f.root.Instances.ExchangeGroups\n",
      "results = f.root.Results.General\n",
      "flows = f.root.Instances.ExchangeInstSolutions\n",
      "\n",
      "inst_to_param = {}\n",
      "for x in props.iterrows():\n",
      "    inst_to_param[x['instid']] = x['paramid']\n",
      "\n",
      "soln_to_inst = {}\n",
      "for x in results.iterrows():\n",
      "    soln_to_inst[x['solnid']] = x['instid']"
     ],
     "language": "python",
     "metadata": {},
     "outputs": [],
     "prompt_number": 7
    },
    {
     "cell_type": "markdown",
     "metadata": {},
     "source": [
      "Sanity Checks on Data\n",
      "---------------------"
     ]
    },
    {
     "cell_type": "code",
     "collapsed": false,
     "input": [
      "req_grp_qtys = defaultdict(float)\n",
      "total_mass_flow = defaultdict(float)\n",
      "total_node_qty = {}\n",
      "\n",
      "for x in grps.iterrows():\n",
      "    if x['kind'] == 1: # supply == 0, req == 1\n",
      "        req_grp_qtys[x['instid']] += x['caps'][0]\n",
      "    \n",
      "for x in samplers.iterrows():\n",
      "    total_node_qty[x['paramid']] = \\\n",
      "        x['assem_per_req_avg'] * x['n_request_avg'] * x['req_qty_avg']\n",
      "\n",
      "# test modeling assumption that the group mass constraint\n",
      "# is equal to the expected total request quantity\n",
      "iids = req_grp_qtys.keys()\n",
      "obs = [req_grp_qtys[iid] - total_node_qty[inst_to_param[iid]] for iid in iids]\n",
      "exp = [0] * len(total_node_qty)\n",
      "np.testing.assert_array_equal(exp, obs)\n",
      "print(('Group quantity constraint equals the number of '\n",
      "       'requested assemblies as expected.'))\n",
      "    \n",
      "for x in flows.iterrows():\n",
      "    total_mass_flow[x['solnid']] += x['flow']\n",
      "\n",
      "# test truth that total flows are at most equal\n",
      "# to the group mass constraint being precisely equal\n",
      "tol = 1e-8\n",
      "bad = []\n",
      "good_eq = []\n",
      "good_lt = []\n",
      "for sid, iid in soln_to_inst.items():\n",
      "    diff = total_mass_flow[sid] - req_grp_qtys[iid]\n",
      "    if diff > tol:\n",
      "        bad.append((sid, iid, diff))\n",
      "    elif diff < -tol:\n",
      "        good_lt.append((sid, iid))\n",
      "    else:\n",
      "        good_eq.append((sid, iid))\n",
      "\n",
      "if len(bad) > 0:\n",
      "    print(\"{0} runs had more mass flow than total group qty.\".format(len(bad)))\n",
      "\n",
      "frac_equal = len(good_eq) / float(len(good_eq) + len(good_lt))\n",
      "print(('Of flows with expected total mass behavior, '\n",
      "       '{:.2%} meet total request demand.'.format(frac_equal)))"
     ],
     "language": "python",
     "metadata": {},
     "outputs": [
      {
       "output_type": "stream",
       "stream": "stdout",
       "text": [
        "Group quantity constraint equals the number of requested assemblies as expected.\n",
        "66 runs had more mass flow than total group qty."
       ]
      },
      {
       "output_type": "stream",
       "stream": "stdout",
       "text": [
        "\n",
        "Of flows with expected total mass behavior, 99.67% meet total request demand.\n"
       ]
      }
     ],
     "prompt_number": 11
    },
    {
     "cell_type": "code",
     "collapsed": false,
     "input": [
      "iids = set(iid for _, iid, _ in bad)\n",
      "sids = set(sid for sid, _, _ in bad)\n",
      "pids = set(inst_to_param[x] for x in iids)\n",
      "\n",
      "print(\"n in list not in set:\", len(bad) - len(iids))\n",
      "rows = [x for x in results.iterrows() if x['solnid'] in sids]\n",
      "\n",
      "x = set(x['solver'] for x in rows)\n",
      "print('solvers with incorrect answers:', ' '.join(x))\n",
      "\n",
      "rows = [x in samplers.iterrows() \\\n",
      "        if x['paramid'] in pids\n",
      "x = set(x['req_qty_avg'] for )\n",
      "print('Request quantities with incorrect answers:', ' '.join(x))\n",
      "\n"
     ],
     "language": "python",
     "metadata": {},
     "outputs": [
      {
       "ename": "NameError",
       "evalue": "global name 'paramids' is not defined",
       "output_type": "pyerr",
       "traceback": [
        "\u001b[0;31m---------------------------------------------------------------------------\u001b[0m\n\u001b[0;31mNameError\u001b[0m                                 Traceback (most recent call last)",
        "\u001b[0;32m<ipython-input-13-0061b830aafc>\u001b[0m in \u001b[0;36m<module>\u001b[0;34m()\u001b[0m\n\u001b[1;32m      9\u001b[0m \u001b[0;32mprint\u001b[0m\u001b[0;34m(\u001b[0m\u001b[0;34m'solvers with incorrect answers:'\u001b[0m\u001b[0;34m,\u001b[0m \u001b[0;34m' '\u001b[0m\u001b[0;34m.\u001b[0m\u001b[0mjoin\u001b[0m\u001b[0;34m(\u001b[0m\u001b[0mx\u001b[0m\u001b[0;34m)\u001b[0m\u001b[0;34m)\u001b[0m\u001b[0;34m\u001b[0m\u001b[0m\n\u001b[1;32m     10\u001b[0m \u001b[0;34m\u001b[0m\u001b[0m\n\u001b[0;32m---> 11\u001b[0;31m \u001b[0mx\u001b[0m \u001b[0;34m=\u001b[0m \u001b[0mset\u001b[0m\u001b[0;34m(\u001b[0m\u001b[0mx\u001b[0m\u001b[0;34m[\u001b[0m\u001b[0;34m'req_qty_avg'\u001b[0m\u001b[0;34m]\u001b[0m \u001b[0;32mfor\u001b[0m \u001b[0mx\u001b[0m \u001b[0;32min\u001b[0m \u001b[0msamplers\u001b[0m\u001b[0;34m.\u001b[0m\u001b[0miterrows\u001b[0m\u001b[0;34m(\u001b[0m\u001b[0;34m)\u001b[0m         \u001b[0;32mif\u001b[0m \u001b[0mx\u001b[0m\u001b[0;34m[\u001b[0m\u001b[0;34m'paramid'\u001b[0m\u001b[0;34m]\u001b[0m \u001b[0;32min\u001b[0m \u001b[0mparamids\u001b[0m\u001b[0;34m)\u001b[0m\u001b[0;34m\u001b[0m\u001b[0m\n\u001b[0m\u001b[1;32m     12\u001b[0m \u001b[0;32mprint\u001b[0m\u001b[0;34m(\u001b[0m\u001b[0;34m'Request quantities with incorrect answers:'\u001b[0m\u001b[0;34m,\u001b[0m \u001b[0;34m' '\u001b[0m\u001b[0;34m.\u001b[0m\u001b[0mjoin\u001b[0m\u001b[0;34m(\u001b[0m\u001b[0mx\u001b[0m\u001b[0;34m)\u001b[0m\u001b[0;34m)\u001b[0m\u001b[0;34m\u001b[0m\u001b[0m\n\u001b[1;32m     13\u001b[0m \u001b[0;34m\u001b[0m\u001b[0m\n",
        "\u001b[0;32m<ipython-input-13-0061b830aafc>\u001b[0m in \u001b[0;36m<genexpr>\u001b[0;34m((x,))\u001b[0m\n\u001b[1;32m      9\u001b[0m \u001b[0;32mprint\u001b[0m\u001b[0;34m(\u001b[0m\u001b[0;34m'solvers with incorrect answers:'\u001b[0m\u001b[0;34m,\u001b[0m \u001b[0;34m' '\u001b[0m\u001b[0;34m.\u001b[0m\u001b[0mjoin\u001b[0m\u001b[0;34m(\u001b[0m\u001b[0mx\u001b[0m\u001b[0;34m)\u001b[0m\u001b[0;34m)\u001b[0m\u001b[0;34m\u001b[0m\u001b[0m\n\u001b[1;32m     10\u001b[0m \u001b[0;34m\u001b[0m\u001b[0m\n\u001b[0;32m---> 11\u001b[0;31m \u001b[0mx\u001b[0m \u001b[0;34m=\u001b[0m \u001b[0mset\u001b[0m\u001b[0;34m(\u001b[0m\u001b[0mx\u001b[0m\u001b[0;34m[\u001b[0m\u001b[0;34m'req_qty_avg'\u001b[0m\u001b[0;34m]\u001b[0m \u001b[0;32mfor\u001b[0m \u001b[0mx\u001b[0m \u001b[0;32min\u001b[0m \u001b[0msamplers\u001b[0m\u001b[0;34m.\u001b[0m\u001b[0miterrows\u001b[0m\u001b[0;34m(\u001b[0m\u001b[0;34m)\u001b[0m         \u001b[0;32mif\u001b[0m \u001b[0mx\u001b[0m\u001b[0;34m[\u001b[0m\u001b[0;34m'paramid'\u001b[0m\u001b[0;34m]\u001b[0m \u001b[0;32min\u001b[0m \u001b[0mparamids\u001b[0m\u001b[0;34m)\u001b[0m\u001b[0;34m\u001b[0m\u001b[0m\n\u001b[0m\u001b[1;32m     12\u001b[0m \u001b[0;32mprint\u001b[0m\u001b[0;34m(\u001b[0m\u001b[0;34m'Request quantities with incorrect answers:'\u001b[0m\u001b[0;34m,\u001b[0m \u001b[0;34m' '\u001b[0m\u001b[0;34m.\u001b[0m\u001b[0mjoin\u001b[0m\u001b[0;34m(\u001b[0m\u001b[0mx\u001b[0m\u001b[0;34m)\u001b[0m\u001b[0;34m)\u001b[0m\u001b[0;34m\u001b[0m\u001b[0m\n\u001b[1;32m     13\u001b[0m \u001b[0;34m\u001b[0m\u001b[0m\n",
        "\u001b[0;31mNameError\u001b[0m: global name 'paramids' is not defined"
       ]
      },
      {
       "output_type": "stream",
       "stream": "stdout",
       "text": [
        "n in list not in set: 0\n",
        "solvers with incorrect answers: cbc\n"
       ]
      }
     ],
     "prompt_number": 13
    },
    {
     "cell_type": "code",
     "collapsed": false,
     "input": [],
     "language": "python",
     "metadata": {},
     "outputs": []
    }
   ],
   "metadata": {}
  }
 ]
}