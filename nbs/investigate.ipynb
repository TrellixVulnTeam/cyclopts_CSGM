{
 "metadata": {
  "name": ""
 },
 "nbformat": 3,
 "nbformat_minor": 0,
 "worksheets": [
  {
   "cells": [
    {
     "cell_type": "markdown",
     "metadata": {},
     "source": [
      "Cyclopts Results Investigation\n",
      "===============================\n",
      "\n",
      "This notebook provides a series of tools to confirm expected behavior of solutions and investigate possible errors thereof."
     ]
    },
    {
     "cell_type": "code",
     "collapsed": false,
     "input": [
      "from __future__ import print_function\n",
      "\n",
      "%matplotlib inline\n",
      "%load_ext autoreload\n",
      "%autoreload 2\n",
      "\n",
      "import matplotlib.pyplot as plt\n",
      "import numpy as np\n",
      "import tables as t\n",
      "from collections import defaultdict\n",
      "import os\n",
      "import uuid\n",
      "\n",
      "from cyclopts import tools"
     ],
     "language": "python",
     "metadata": {},
     "outputs": [
      {
       "output_type": "stream",
       "stream": "stdout",
       "text": [
        "The autoreload extension is already loaded. To reload it, use:\n",
        "  %reload_ext autoreload\n"
       ]
      }
     ],
     "prompt_number": 87
    },
    {
     "cell_type": "code",
     "collapsed": false,
     "input": [
      "prefix = '../../exec/run_results/non_unity_261'\n",
      "fname = 'combined.h5'\n",
      "f = t.open_file(os.path.join(prefix, fname), mode='r')\n",
      "\n",
      "props = f.root.Instances.ExchangeInstProperties\n",
      "arcs = f.root.Instances.ExchangeArcs\n",
      "nodes = f.root.Instances.ExchangeNodes\n",
      "samplers = f.root.ReactorRequestSampler\n",
      "grps = f.root.Instances.ExchangeGroups\n",
      "results = f.root.Results.General\n",
      "solns = f.root.Instances.ExchangeInstSolutions\n",
      "\n",
      "inst_to_param = {}\n",
      "for x in props.iterrows():\n",
      "    inst_to_param[x['instid']] = x['paramid']\n",
      "\n",
      "soln_to_inst = {}\n",
      "inst_to_soln = defaultdict(list)\n",
      "for x in results.iterrows():\n",
      "    soln_to_inst[x['solnid']] = x['instid']\n",
      "    inst_to_soln[x['instid']].append(x['solnid'])\n",
      "\n",
      "soln_to_param = {}\n",
      "for s, i in soln_to_inst.items():\n",
      "    soln_to_param[s] = inst_to_param[i]\n",
      "    \n"
     ],
     "language": "python",
     "metadata": {},
     "outputs": [],
     "prompt_number": 88
    },
    {
     "cell_type": "markdown",
     "metadata": {},
     "source": [
      "Sanity Checks on Data\n",
      "---------------------"
     ]
    },
    {
     "cell_type": "code",
     "collapsed": false,
     "input": [
      "req_grp_qtys = defaultdict(float)\n",
      "total_mass_flow = defaultdict(float)\n",
      "total_node_qty = {}\n",
      "\n",
      "for x in grps.iterrows():\n",
      "    if x['kind']: # true == req, false == bidtotal_flows = sum(flows)\n",
      "\n",
      "        req_grp_qtys[x['instid']] += x['caps'][0]\n",
      "    \n",
      "for x in samplers.iterrows():\n",
      "    total_node_qty[x['paramid']] = \\\n",
      "        x['assem_per_req_avg'] * x['n_request_avg'] * x['req_qty_avg']\n",
      "\n",
      "# test modeling assumption that the group mass constraint\n",
      "# is equal to the expected total request quantity\n",
      "iids = req_grp_qtys.keys()\n",
      "obs = [req_grp_qtys[iid] - total_node_qty[inst_to_param[iid]] for iid in iids]\n",
      "exp = [0] * len(total_node_qty)\n",
      "np.testing.assert_array_equal(exp, obs)\n",
      "print(('Group quantity constraint equals the number of '\n",
      "       'requested assemblies as expected.'))\n",
      "    \n",
      "for x in solns.iterrows():\n",
      "    total_mass_flow[x['solnid']] += x['flow']\n",
      "\n",
      "# test truth that total flows are at most equal\n",
      "# to the group mass constraint being precisely equal\n",
      "tol = 1e-8\n",
      "bad = []\n",
      "good_eq = []\n",
      "good_lt = []\n",
      "for sid, iid in soln_to_inst.items():\n",
      "    diff = total_mass_flow[sid] - req_grp_qtys[iid]\n",
      "    if diff > tol:\n",
      "        bad.append((sid, iid, diff))\n",
      "    elif diff < -tol:\n",
      "        good_lt.append((sid, iid))\n",
      "    else:\n",
      "        good_eq.append((sid, iid))\n",
      "\n",
      "if len(bad) > 0:\n",
      "    print(\"{0} runs had more mass flow than total group qty.\".format(len(bad)))\n",
      "\n",
      "frac_equal = len(good_eq) / float(len(good_eq) + len(good_lt))\n",
      "print(('Of flows with expected total mass behavior, '\n",
      "       '{:.2%} meet total request demand.'.format(frac_equal)))"
     ],
     "language": "python",
     "metadata": {},
     "outputs": [
      {
       "output_type": "stream",
       "stream": "stdout",
       "text": [
        "Group quantity constraint equals the number of requested assemblies as expected.\n",
        "66 runs had more mass flow than total group qty."
       ]
      },
      {
       "output_type": "stream",
       "stream": "stdout",
       "text": [
        "\n",
        "Of flows with expected total mass behavior, 99.67% meet total request demand.\n"
       ]
      }
     ],
     "prompt_number": 89
    },
    {
     "cell_type": "code",
     "collapsed": false,
     "input": [
      "iids = set(iid for _, iid, _ in bad)\n",
      "sids = set(sid for sid, _, _ in bad)\n",
      "pids = set(inst_to_param[x] for x in iids)\n",
      "print(\"n in list not in set:\", len(bad) - len(iids), '\\n')\n",
      "\n",
      "x = set(x['solver'] for x in results.iterrows() if x['solnid'] in sids)\n",
      "print('solvers with incorrect answers:', ' '.join(x), '\\n')\n",
      "\n",
      "x = set(x['req_qty_avg'] for x in samplers.iterrows() \\\n",
      "            if x['paramid'] in pids)\n",
      "print('Request quantities with incorrect answers:', x, '\\n')\n",
      "\n",
      "#x = {x['instid']: x['n_arcs'] for x in props.iterrows() \\\n",
      " #    if x['instid'] in iids}\n",
      "#min_iid = min(x, key=x.get)\n",
      "#print('instid with smalled number of arcs:', \n",
      "#      tools.uuidhex(bytes=min_iid), '({0} total)\\n'.format(x[min_iid]))\n",
      "\n",
      "min_iid = '86f45b85b8c04d028308cdc3cd17795c'\n",
      "print('testing ', min_iid, '\\n')\n",
      "min_iid = uuid.UUID(min_iid).bytes\n",
      "\n",
      "x = [x['n_commods_avg'] for x in samplers.iterrows() \\\n",
      "            if x['paramid'] == inst_to_param[min_iid]]\n",
      "print('N commods in this inst:', x[0], '\\n')\n",
      "\n",
      "caps = [x['caps'][0] for x in grps.iterrows() \\\n",
      "        if x['instid'] == min_iid and x['kind']]\n",
      "print('That instid has a total request quantity of', sum(caps), '\\n') \n",
      "\n",
      "#min_sid = [x for x in inst_to_soln[min_iid] if x in sids][0]\n",
      "#flows = [x['flow'] for x in solns.iterrows() \\\n",
      "#         if x['instid'] == min_iid and x['solnid'] == min_sid]\n",
      "#print('That instid has a total flow of', sum(flows), '\\n') \n",
      "\n",
      "caps = [x['caps'][0] for x in grps.iterrows() \\\n",
      "        if x['instid'] == min_iid and x['kind']]\n",
      "print('req group caps', caps, '\\n')\n",
      "\n",
      "caps = [x['caps'][0] for x in grps.iterrows() \\\n",
      "        if x['instid'] == min_iid and not x['kind']]\n",
      "print('sup group caps', caps, '\\n')\n",
      "\n",
      "caps = [x['ucaps'][0] for x in arcs.iterrows() \\\n",
      "        if x['instid'] == min_iid]\n",
      "print('node caps', caps, '\\n')\n",
      "\n",
      "qtys = [x['qty'] for x in nodes.iterrows() \\\n",
      "        if x['instid'] == min_iid and x['kind']]\n",
      "print('node request qtys', qtys, '\\n')\n",
      "\n",
      "excls = [x['excl'] for x in nodes.iterrows() \\\n",
      "        if x['instid'] == min_iid and x['kind']]\n",
      "print('node request excl', excls, '\\n')\n",
      "\n",
      "efracs = [x['excl_frac'] for x in props.iterrows() \\\n",
      "            if x['instid'] == min_iid]\n",
      "print('excl_fraction', efracs, '\\n')\n",
      "\n",
      "nper = [x['n_u_nodes']/float(x['n_u_grps']) for x in props.iterrows() \\\n",
      "            if x['instid'] == min_iid]\n",
      "print('req nodes per req', nper, '\\n')\n",
      "\n",
      "nper = [x['n_v_nodes']/float(x['n_v_grps']) for x in props.iterrows() \\\n",
      "            if x['instid'] == min_iid]\n",
      "print('sup nodes per sup', nper, '\\n')\n"
     ],
     "language": "python",
     "metadata": {},
     "outputs": [
      {
       "output_type": "stream",
       "stream": "stdout",
       "text": [
        "n in list not in set: 0 \n",
        "\n",
        "solvers with incorrect answers: clp \n",
        "\n",
        "Request quantities with incorrect answers: set([1.5]) \n",
        "\n",
        "testing  86f45b85b8c04d028308cdc3cd17795c \n",
        "\n",
        "N commods in this inst: 5 \n",
        "\n",
        "That instid has a total request quantity of"
       ]
      },
      {
       "output_type": "stream",
       "stream": "stdout",
       "text": [
        " 15.0 \n",
        "\n",
        "req group caps [1.5, 1.5, 1.5, 1.5, 1.5, 1.5, 1.5, 1.5, 1.5, 1.5] \n",
        "\n",
        "sup group caps"
       ]
      },
      {
       "output_type": "stream",
       "stream": "stdout",
       "text": [
        " [3.0, 3.0, 3.0, 1.5, 4.5, 3.0, 3.0, 3.0, 1.5, 4.5] \n",
        "\n",
        "node caps"
       ]
      },
      {
       "output_type": "stream",
       "stream": "stdout",
       "text": [
        " [1.0, 1.0, 1.0, 1.0, 1.0, 1.0, 1.0, 1.0, 1.0, 1.0, 1.0, 1.0, 1.0, 1.0, 1.0, 1.0, 1.0, 1.0, 1.0, 1.0] \n",
        "\n",
        "node request qtys"
       ]
      },
      {
       "output_type": "stream",
       "stream": "stdout",
       "text": [
        " [1.5, 1.5, 1.5, 1.5, 1.5, 1.5, 1.5, 1.5, 1.5, 1.5] \n",
        "\n",
        "node request excl"
       ]
      },
      {
       "output_type": "stream",
       "stream": "stdout",
       "text": [
        " [True, True, True, True, True, True, True, True, True, True] \n",
        "\n",
        "excl_fraction [1.0] \n",
        "\n",
        "req nodes per req [1.0] \n",
        "\n",
        "sup nodes per sup [2.0] \n",
        "\n"
       ]
      }
     ],
     "prompt_number": 90
    },
    {
     "cell_type": "code",
     "collapsed": false,
     "input": [
      "import uuid\n",
      "hexid = '86f45b85b8c04d028308cdc3cd17795c'\n",
      "iid = uuid.UUID(hexid)\n"
     ],
     "language": "python",
     "metadata": {},
     "outputs": [],
     "prompt_number": 91
    },
    {
     "cell_type": "code",
     "collapsed": false,
     "input": [],
     "language": "python",
     "metadata": {},
     "outputs": [],
     "prompt_number": 91
    }
   ],
   "metadata": {}
  }
 ]
}