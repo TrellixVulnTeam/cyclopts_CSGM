{
 "metadata": {
  "name": ""
 },
 "nbformat": 3,
 "nbformat_minor": 0,
 "worksheets": [
  {
   "cells": [
    {
     "cell_type": "markdown",
     "metadata": {},
     "source": [
      "Cyclopts Results Investigation\n",
      "===============================\n",
      "\n",
      "This notebook provides a series of tools to confirm expected behavior of solutions and investigate possible errors thereof."
     ]
    },
    {
     "cell_type": "code",
     "collapsed": false,
     "input": [
      "from __future__ import print_function\n",
      "\n",
      "%matplotlib inline\n",
      "%load_ext autoreload\n",
      "%autoreload 2\n",
      "\n",
      "import matplotlib.pyplot as plt\n",
      "import numpy as np\n",
      "import tables as t\n",
      "from collections import defaultdict\n",
      "import os"
     ],
     "language": "python",
     "metadata": {},
     "outputs": [
      {
       "output_type": "stream",
       "stream": "stdout",
       "text": [
        "The autoreload extension is already loaded. To reload it, use:\n",
        "  %reload_ext autoreload\n"
       ]
      }
     ],
     "prompt_number": 6
    },
    {
     "cell_type": "code",
     "collapsed": false,
     "input": [
      "prefix = '../../exec/run_results/non_unity_261'\n",
      "fname = 'combined.h5'\n",
      "f = t.open_file(os.path.join(prefix, fname), mode='r')\n",
      "\n",
      "props = f.root.Instances.ExchangeInstProperties\n",
      "samplers = f.root.ReactorRequestSampler\n",
      "grps = f.root.Instances.ExchangeGroups\n",
      "results = f.root.Results.General\n",
      "flows = f.root.Instances.ExchangeInstSolutions"
     ],
     "language": "python",
     "metadata": {},
     "outputs": [],
     "prompt_number": 7
    },
    {
     "cell_type": "markdown",
     "metadata": {},
     "source": [
      "Sanity Checks on Data\n",
      "---------------------"
     ]
    },
    {
     "cell_type": "code",
     "collapsed": false,
     "input": [
      "req_grp_qtys = defaultdict(float)\n",
      "total_mass_flow = defaultdict(float)\n",
      "total_node_qty = {}\n",
      "inst_to_param = {}\n",
      "soln_to_inst = {}\n",
      "\n",
      "for x in props.iterrows():\n",
      "    inst_to_param[x['instid']] = x['paramid']\n",
      "\n",
      "for x in grps.iterrows():\n",
      "    if x['kind'] == 1: # supply == 0, req == 1\n",
      "        req_grp_qtys[x['instid']] += x['caps'][0]\n",
      "    \n",
      "for x in samplers.iterrows():\n",
      "    total_node_qty[x['paramid']] = \\\n",
      "        x['assem_per_req_avg'] * x['n_request_avg'] * x['req_qty_avg']\n",
      "\n",
      "# test modeling assumption that the group mass constraint\n",
      "# is equal to the expected total request quantity\n",
      "iids = req_grp_qtys.keys()\n",
      "obs = [req_grp_qtys[iid] - total_node_qty[inst_to_param[iid]] for iid in iids]\n",
      "exp = [0] * len(total_node_qty)\n",
      "np.testing.assert_array_equal(exp, obs)\n",
      "print(('Group quantity constraint equals the number of '\n",
      "       'requested assemblies as expected.'))\n",
      "    \n",
      "for x in flows.iterrows():\n",
      "    total_mass_flow[x['solnid']] += x['flow']\n",
      "    soln_to_inst[x['solnid']] = x['instid']\n",
      "\n",
      "# test truth that total flows are at most equal\n",
      "# to the group mass constraint \n",
      "tol = 1e-8\n",
      "bad = []\n",
      "good_eq = []\n",
      "good_lt = []\n",
      "for sid, iid in soln_to_inst.items():\n",
      "    diff = total_mass_flow[sid] - req_grp_qtys[iid]\n",
      "    if diff > tol:\n",
      "        bad.append((sid, iid, diff))\n",
      "    elif diff < -tol:\n",
      "        good_lt.append((sid, iid))\n",
      "    else:\n",
      "        good_eq.append((sid, iid))\n",
      "\n",
      "if len(bad) > 0:\n",
      "    print(\"{0} runs had more mass flow than total group qty.\".format(len(bad)))\n",
      "\n",
      "frac_equal = len(good_eq) / float(len(good_eq) + len(good_lt))\n",
      "x = set(iid for _, iid, _ in bad)\n",
      "print(\"n in list not in set:\", len(bad) - len(x))\n",
      "rows = [x for x in results.iterrows() if x['solnid'] in set(sid for sid, _, _ in bad)]\n",
      "\n",
      "x = set(x['solver'] for x in rows)\n",
      "print('solvers with incorrect answers:', ' '.join(x)) \n",
      "print(('All flows are equal to or less than the requested flow, '\n",
      "       'with {:.2%} being precisely equal.'.format(frac_equal)))"
     ],
     "language": "python",
     "metadata": {},
     "outputs": [
      {
       "output_type": "stream",
       "stream": "stdout",
       "text": [
        "Group quantity constraint equals the number of requested assemblies as expected.\n",
        "66 runs had more mass flow than total group qty."
       ]
      },
      {
       "output_type": "stream",
       "stream": "stdout",
       "text": [
        "\n",
        "n in list not in set: 0\n",
        "solvers with incorrect answers: cbc\n",
        "All flows are equal to or less than the requested flow, with 99.67% being precisely equal.\n"
       ]
      }
     ],
     "prompt_number": 9
    },
    {
     "cell_type": "code",
     "collapsed": false,
     "input": [
      "x = set(iid for _, iid, _ in bad)\n",
      "print(\"n in list not in set:\", len(bad) - len(x))\n",
      "rows = [x for x in results.iterrows() if x['solnid'] in set(sid for sid, _, _ in bad)]\n",
      "\n",
      "x = set(x['solver'] for x in rows)\n",
      "print('solvers with incorrect answers:', ' '.join(x))"
     ],
     "language": "python",
     "metadata": {},
     "outputs": [
      {
       "output_type": "stream",
       "stream": "stdout",
       "text": [
        "n in list not in set: 0\n",
        "solvers with incorrect answers: cbc\n"
       ]
      }
     ],
     "prompt_number": 10
    },
    {
     "cell_type": "code",
     "collapsed": false,
     "input": [],
     "language": "python",
     "metadata": {},
     "outputs": []
    }
   ],
   "metadata": {}
  }
 ]
}